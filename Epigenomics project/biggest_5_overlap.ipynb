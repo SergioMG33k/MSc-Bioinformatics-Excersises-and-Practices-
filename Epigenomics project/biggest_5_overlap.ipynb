{
 "cells": [
  {
   "cell_type": "code",
   "execution_count": 5,
   "metadata": {},
   "outputs": [
    {
     "name": "stdout",
     "output_type": "stream",
     "text": [
      "3836\n",
      "2082\n",
      "1779\n",
      "1751\n",
      "1636\n"
     ]
    }
   ],
   "source": [
    "with open(\"overlap_dnase_state3.tsv\") as f:\n",
    "    max_overlap = 0\n",
    "    max_overlap2 = 0\n",
    "    max_overlap3 = 0\n",
    "    max_overlap4 = 0\n",
    "    max_overlap5 = 0\n",
    "    for line in f:\n",
    "        line = line.rstrip()\n",
    "        line = line.split()\n",
    "        if int(line[-1]) > max_overlap:\n",
    "            max_overlap = int(line[-1])\n",
    "        if int(line[-1]) > max_overlap2 and int(line[-1]) < max_overlap:\n",
    "            max_overlap2 = int(line[-1])\n",
    "        if int(line[-1]) > max_overlap3 and int(line[-1]) < max_overlap2:\n",
    "            max_overlap3 = int(line[-1])\n",
    "        if int(line[-1]) > max_overlap4 and int(line[-1]) < max_overlap3:\n",
    "            max_overlap4 = int(line[-1])\n",
    "        if int(line[-1]) > max_overlap5 and int(line[-1]) < max_overlap4:\n",
    "            max_overlap5 = int(line[-1])\n",
    "f.close()\n",
    "print(max_overlap)\n",
    "print(max_overlap2)\n",
    "print(max_overlap3)\n",
    "print(max_overlap4)\n",
    "print(max_overlap5)\n",
    "\n"
   ]
  }
 ],
 "metadata": {
  "kernelspec": {
   "display_name": "Python 3",
   "language": "python",
   "name": "python3"
  },
  "language_info": {
   "codemirror_mode": {
    "name": "ipython",
    "version": 3
   },
   "file_extension": ".py",
   "mimetype": "text/x-python",
   "name": "python",
   "nbconvert_exporter": "python",
   "pygments_lexer": "ipython3",
   "version": "3.8.3"
  }
 },
 "nbformat": 4,
 "nbformat_minor": 4
}
