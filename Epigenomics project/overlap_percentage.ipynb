{
 "cells": [
  {
   "cell_type": "code",
   "execution_count": 7,
   "metadata": {},
   "outputs": [
    {
     "name": "stdout",
     "output_type": "stream",
     "text": [
      "The percentage of overlapped peaks between the state3 studied and DNase peaks is 29.244657332350776\n",
      "The percentage of length overlapped between the state3 and the DNase peaks is 12.387786736191748\n"
     ]
    }
   ],
   "source": [
    "with open(\"overlap_dnase_state3.tsv\") as f:\n",
    "    tot_over = 0\n",
    "    over_len = 0\n",
    "    for line in f:\n",
    "        line = line.rstrip()\n",
    "        line = line.split()\n",
    "        #print(line)\n",
    "        if int(line[-1]) > 0:\n",
    "            tot_over += 1\n",
    "            over_len += int(line[-1])\n",
    "f.close()\n",
    "\n",
    "with open(\"./state3/Monoc1_2_state3.bed\") as f:\n",
    "    tot = 0\n",
    "    tot_len = 0\n",
    "    for line in f:\n",
    "        line = line.rstrip()\n",
    "        line = line.split()\n",
    "        #print(line)\n",
    "        tot += 1\n",
    "        tot_len += int(line[2])-int(line[1])\n",
    "f.close()\n",
    "\n",
    "# percentage of overlapped peaks\n",
    "pct = (tot_over/tot)*100\n",
    "# percentage of overlapped length\n",
    "pct_len = (over_len/tot_len)*100\n",
    "\n",
    "print(\"The percentage of overlapped peaks between the state3 studied and DNase peaks is\", pct)\n",
    "print(\"The percentage of length overlapped between the state3 and the DNase peaks is\", pct_len)"
   ]
  },
  {
   "cell_type": "code",
   "execution_count": 5,
   "metadata": {},
   "outputs": [
    {
     "name": "stdout",
     "output_type": "stream",
     "text": [
      "The percentage of overlapped peaks between the state3 studied and hypomethylated regions is 7.251289609432572\n",
      "The percentage of length overlapped between the state3 and hypomethylated regions is 2.741636176412593\n"
     ]
    }
   ],
   "source": [
    "with open(\"overlap_hypometh.tsv\") as f:\n",
    "    tot_over = 0\n",
    "    over_len = 0\n",
    "    for line in f:\n",
    "        line = line.rstrip()\n",
    "        line = line.split()\n",
    "        #print(line)\n",
    "        if int(line[-1]) > 0:\n",
    "            tot_over += 1\n",
    "            over_len += int(line[-1])\n",
    "f.close()\n",
    "\n",
    "with open(\"./state3/Monoc1_2_state3.bed\") as f:\n",
    "    tot = 0\n",
    "    tot_len = 0\n",
    "    for line in f:\n",
    "        line = line.rstrip()\n",
    "        line = line.split()\n",
    "        #print(line)\n",
    "        tot += 1\n",
    "        tot_len += int(line[2])-int(line[1])\n",
    "f.close()\n",
    "\n",
    "# percentage of overlapped peaks\n",
    "pct = (tot_over/tot)*100\n",
    "# percentage of overlapped length\n",
    "pct_len = (over_len/tot_len)*100\n",
    "\n",
    "print(\"The percentage of overlapped peaks between the state3 studied and hypomethylated regions is\", pct)\n",
    "print(\"The percentage of length overlapped between the state3 and hypomethylated regions is\", pct_len)"
   ]
  },
  {
   "cell_type": "code",
   "execution_count": 6,
   "metadata": {},
   "outputs": [
    {
     "name": "stdout",
     "output_type": "stream",
     "text": [
      "The percentage of overlapped peaks between the state3 studied and hypomethylated regions is 94.50626381724392\n",
      "The percentage of length overlapped between the state3 and hypomethylated regions is 81.96201498586859\n"
     ]
    }
   ],
   "source": [
    "with open(\"overlap_hypermeth.tsv\") as f:\n",
    "    tot_over = 0\n",
    "    over_len = 0\n",
    "    for line in f:\n",
    "        line = line.rstrip()\n",
    "        line = line.split()\n",
    "        #print(line)\n",
    "        if int(line[-1]) > 0:\n",
    "            tot_over += 1\n",
    "            over_len += int(line[-1])\n",
    "f.close()\n",
    "\n",
    "with open(\"./state3/Monoc1_2_state3.bed\") as f:\n",
    "    tot = 0\n",
    "    tot_len = 0\n",
    "    for line in f:\n",
    "        line = line.rstrip()\n",
    "        line = line.split()\n",
    "        #print(line)\n",
    "        tot += 1\n",
    "        tot_len += int(line[2])-int(line[1])\n",
    "f.close()\n",
    "\n",
    "# percentage of overlapped peaks\n",
    "pct = (tot_over/tot)*100\n",
    "# percentage of overlapped length\n",
    "pct_len = (over_len/tot_len)*100\n",
    "\n",
    "print(\"The percentage of overlapped peaks between the state3 studied and hypomethylated regions is\", pct)\n",
    "print(\"The percentage of length overlapped between the state3 and hypomethylated regions is\", pct_len)"
   ]
  }
 ],
 "metadata": {
  "kernelspec": {
   "display_name": "Python 3",
   "language": "python",
   "name": "python3"
  },
  "language_info": {
   "codemirror_mode": {
    "name": "ipython",
    "version": 3
   },
   "file_extension": ".py",
   "mimetype": "text/x-python",
   "name": "python",
   "nbconvert_exporter": "python",
   "pygments_lexer": "ipython3",
   "version": "3.8.5"
  }
 },
 "nbformat": 4,
 "nbformat_minor": 4
}
