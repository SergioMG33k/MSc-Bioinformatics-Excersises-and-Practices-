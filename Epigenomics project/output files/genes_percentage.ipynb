{
 "cells": [
  {
   "cell_type": "code",
   "execution_count": 2,
   "metadata": {},
   "outputs": [
    {
     "name": "stdout",
     "output_type": "stream",
     "text": [
      "{'pseudo': 527, 'protein-coding': 20710, 'ncRNA': 5528, 'snoRNA': 290, '': 60, 'snRNA': 23, 'scRNA': 2}\n"
     ]
    }
   ],
   "source": [
    "with open(\"./annot_homer/annotated_gene_type.txt\") as f:\n",
    "    gene_dict = {}\n",
    "    cont = 0\n",
    "    for line in f:\n",
    "        line = line.rstrip()\n",
    "        if line not in gene_dict:\n",
    "            gene_dict[line] = 1\n",
    "        else:\n",
    "            gene_dict[line] += 1\n",
    "print(gene_dict)"
   ]
  }
 ],
 "metadata": {
  "kernelspec": {
   "display_name": "Python 3",
   "language": "python",
   "name": "python3"
  },
  "language_info": {
   "codemirror_mode": {
    "name": "ipython",
    "version": 3
   },
   "file_extension": ".py",
   "mimetype": "text/x-python",
   "name": "python",
   "nbconvert_exporter": "python",
   "pygments_lexer": "ipython3",
   "version": "3.8.3"
  }
 },
 "nbformat": 4,
 "nbformat_minor": 4
}
