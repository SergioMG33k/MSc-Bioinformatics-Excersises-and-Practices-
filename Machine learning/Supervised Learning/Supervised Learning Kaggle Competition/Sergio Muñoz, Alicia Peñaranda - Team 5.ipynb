{
 "cells": [
  {
   "cell_type": "markdown",
   "metadata": {},
   "source": [
    "<div style=\"font-weight: bold; color:#5D8AA8\" align=\"center\">\n",
    "    <div style=\"font-size: xx-large\">Machine Learning</div><br>\n",
    "    <div style=\"font-size: x-large; color:gray\">Practical Assignment: Supervised Learning</div><br>\n",
    "    <div style=\"font-size: large\">Teacher: Carlos María Alaíz Gudín - Universidad Autónoma de Madrid</div><br></div><hr>\n",
    "</div>"
   ]
  },
  {
   "cell_type": "markdown",
   "metadata": {},
   "source": [
    "<div style=\"font-size: large; font-weight: bold; margin-left: 6em;\">\n",
    "    <p>Names: <u>Sergio Muñoz González y Alicia Peñaranda Navazo</u>\n",
    "    <p>Team Number: <u>05</u>\n",
    "</div>"
   ]
  },
  {
   "cell_type": "markdown",
   "metadata": {},
   "source": [
    "**Initial Configuration**"
   ]
  },
  {
   "cell_type": "markdown",
   "metadata": {},
   "source": [
    "This cell defines the configuration of Jupyter Notebooks."
   ]
  },
  {
   "cell_type": "code",
   "execution_count": 1,
   "metadata": {},
   "outputs": [
    {
     "data": {
      "text/html": [
       "<style>\n",
       "    .qst {background-color: #b1cee3; padding:10px; border-radius: 5px; border: solid 2px #5D8AA8;}\n",
       "    .qst:before {font-weight: bold; content:\"Exercise\"; display: block; margin: 0px 10px 10px 10px;}\n",
       "    h1, h2, h3 {color: #5D8AA8;}\n",
       "    .text_cell_render p {text-align: justify; text-justify: inter-word;}\n",
       "</style>\n"
      ],
      "text/plain": [
       "<IPython.core.display.HTML object>"
      ]
     },
     "metadata": {},
     "output_type": "display_data"
    }
   ],
   "source": [
    "%%html\n",
    "<style>\n",
    "    .qst {background-color: #b1cee3; padding:10px; border-radius: 5px; border: solid 2px #5D8AA8;}\n",
    "    .qst:before {font-weight: bold; content:\"Exercise\"; display: block; margin: 0px 10px 10px 10px;}\n",
    "    h1, h2, h3 {color: #5D8AA8;}\n",
    "    .text_cell_render p {text-align: justify; text-justify: inter-word;}\n",
    "</style>"
   ]
  },
  {
   "cell_type": "code",
   "execution_count": 2,
   "metadata": {},
   "outputs": [],
   "source": [
    "%matplotlib inline\n",
    "%load_ext autoreload\n",
    "%autoreload 2"
   ]
  },
  {
   "cell_type": "markdown",
   "metadata": {},
   "source": [
    "This cell imports the packages to be used (all of them quite standard except for `Utils`, which is provided with the notebook."
   ]
  },
  {
   "cell_type": "markdown",
   "metadata": {},
   "source": [
    "Importados por mi"
   ]
  },
  {
   "cell_type": "code",
   "execution_count": 3,
   "metadata": {},
   "outputs": [],
   "source": [
    "from sklearn import preprocessing\n",
    "from sklearn.feature_selection import SelectKBest\n",
    "from sklearn.feature_selection import f_classif\n",
    "from sklearn.pipeline import Pipeline\n",
    "from sklearn.model_selection import RepeatedStratifiedKFold, GridSearchCV\n",
    "from sklearn.metrics import make_scorer\n",
    "from sklearn.feature_selection import SelectKBest, SelectFromModel\n",
    "from sklearn.ensemble import RandomForestClassifier\n",
    "import matplotlib.pyplot as plt\n",
    "from sklearn.preprocessing import StandardScaler\n",
    "from sklearn.datasets import make_moons\n",
    "from sklearn.linear_model import Perceptron\n",
    "from sklearn.neural_network import MLPClassifier\n",
    "from sklearn.ensemble import GradientBoostingClassifier\n",
    "from sklearn.svm import SVC\n",
    "import seaborn as sns\n",
    "import warnings\n",
    "warnings.filterwarnings(\"ignore\")"
   ]
  },
  {
   "cell_type": "markdown",
   "metadata": {},
   "source": [
    "Importados por profesor"
   ]
  },
  {
   "cell_type": "code",
   "execution_count": 4,
   "metadata": {},
   "outputs": [],
   "source": [
    "import numpy as np\n",
    "import pandas as pd\n",
    "import matplotlib\n",
    "import matplotlib.pyplot as plt\n",
    "\n",
    "from sklearn.metrics import accuracy_score, balanced_accuracy_score\n",
    "\n",
    "########################################\n",
    "# Any other needed package can be imported here:\n",
    "from sklearn.pipeline import make_pipeline\n",
    "from sklearn.neighbors import KNeighborsClassifier\n",
    "from sklearn.svm import SVC\n",
    "from sklearn.linear_model import LogisticRegression, Ridge, Lasso, lars_path, ElasticNet\n",
    "from sklearn.model_selection import GridSearchCV\n",
    "from sklearn.neural_network import MLPClassifier\n",
    "from sklearn.decomposition import PCA\n",
    "########################################\n",
    "\n",
    "from Utils import plot_dataset_clas, evaluate_linear_model, evaluate_nonlinear_model\n",
    "\n",
    "matplotlib.rc('figure', figsize=(15, 5))\n",
    "seed = 123\n",
    "\n",
    "import time"
   ]
  },
  {
   "cell_type": "markdown",
   "metadata": {},
   "source": [
    "# Preliminaries"
   ]
  },
  {
   "cell_type": "markdown",
   "metadata": {},
   "source": [
    "## Introduction"
   ]
  },
  {
   "cell_type": "markdown",
   "metadata": {},
   "source": [
    "This practical assignment is designed as a **Kaggle competition**.\n",
    "Specifically, a **multiclass classification** dataset will be used, so that each team will compete to improve their predictions over an unlabeled partition of the dataset."
   ]
  },
  {
   "cell_type": "markdown",
   "metadata": {},
   "source": [
    "## Objectives"
   ]
  },
  {
   "cell_type": "markdown",
   "metadata": {},
   "source": [
    "The following aspects will be taken into account when evaluating the assignment.\n",
    "\n",
    "\n",
    "* Analyse the data.\n",
    "\n",
    "\n",
    "* Preprocess the features automatically using *pipelines*.\n",
    "\n",
    "\n",
    "* Adjust the hyper-parameters with a validation stage.\n",
    "\n",
    "\n",
    "* Try different models to improve the performance, at least:\n",
    "    * (Regularized) Logistic Regression.\n",
    "    * SVC.\n",
    "    * ANNs.\n",
    "\n",
    "\n",
    "* Submit the prediction at least once per week (the evolution of the performance will be also considered).\n",
    "\n",
    "\n",
    "* Any other approach that may improve either the performance or interpretability of the model (e.g. feature selection, ensembles...).\n",
    "\n",
    "\n",
    "* Analyse the results obtained after each experiment, and make decisions following the conclusions."
   ]
  },
  {
   "cell_type": "markdown",
   "metadata": {},
   "source": [
    "### Team Number"
   ]
  },
  {
   "cell_type": "markdown",
   "metadata": {},
   "source": [
    "The **number of the team** should be inserted here, so that the file of predictions has the appropriate name."
   ]
  },
  {
   "cell_type": "code",
   "execution_count": 5,
   "metadata": {},
   "outputs": [],
   "source": [
    "########################################\n",
    "# The team number should be inserted here:\n",
    "team_number = 5\n",
    "########################################"
   ]
  },
  {
   "cell_type": "markdown",
   "metadata": {},
   "source": [
    "### Evaluation of the Model"
   ]
  },
  {
   "cell_type": "markdown",
   "metadata": {},
   "source": [
    "The following function evaluates a muliclass model, computing and showing the accuracy and balanced accuracy over both the training and test partitions."
   ]
  },
  {
   "cell_type": "code",
   "execution_count": 6,
   "metadata": {},
   "outputs": [],
   "source": [
    "def evaluate_model(model, X_tr, y_tr, X_te, y_te, print_table=True):\n",
    "    y_tr_p = model.predict(X_tr)\n",
    "    y_te_p = model.predict(X_te)\n",
    "\n",
    "    er_tr = [accuracy_score(y_tr, y_tr_p), balanced_accuracy_score(y_tr, y_tr_p)]\n",
    "    er_te = [accuracy_score(y_te, y_te_p), balanced_accuracy_score(y_te, y_te_p)]\n",
    "\n",
    "    ers = [er_tr, er_te]\n",
    "    headers=[\"Acc\", \"Bal. Acc\"]\n",
    "\n",
    "    if print_table:\n",
    "        print(\"%10s\" % \"\", end=\"\")\n",
    "        for h in headers:\n",
    "            print(\"%10s\" % h, end=\"\")\n",
    "        print(\"\")\n",
    "\n",
    "        headersc = [\"Train\", \"Test\"]\n",
    "\n",
    "        cnt = 0\n",
    "        for er in ers:\n",
    "            hc = headersc[cnt]\n",
    "            cnt = cnt + 1\n",
    "            print(\"%10s\" % hc, end=\"\")\n",
    "\n",
    "            for e in er:\n",
    "                print(\"%10.2f\" % e, end=\"\")\n",
    "            print(\"\")\n",
    "\n",
    "    return ers"
   ]
  },
  {
   "cell_type": "markdown",
   "metadata": {},
   "source": [
    "## Submission of the Predictions"
   ]
  },
  {
   "cell_type": "markdown",
   "metadata": {},
   "source": [
    "The following function saves the predictions on the **challenge partition** to a file with syntax `Team_TT_YYYYMMDD-HHMMSS.pred`, where `TT` stands for the team number, and `YYYYMMDD-HHMMSS` is a timestamp to distinguish the different submissions of a team."
   ]
  },
  {
   "cell_type": "code",
   "execution_count": 7,
   "metadata": {},
   "outputs": [],
   "source": [
    "def save_predictions(y_ch_p, n_preds=500):\n",
    "    if (len(y_ch_p) != n_preds):\n",
    "        print(\"Error saving the predictions, it should be a vector of %d lables\" % n_preds)\n",
    "    else:\n",
    "        time_str = time.strftime(\"%Y%m%d-%H%M%S\")\n",
    "        np.savetxt(\"Team_%02d_%s.txt\" % (team_number, time_str), y_ch_p, fmt=\"%d\")"
   ]
  },
  {
   "cell_type": "markdown",
   "metadata": {},
   "source": [
    "Once the prediction file has been generated, it can be download to Moodle in the following [link](https://posgrado.uam.es/mod/assign/view.php?id=727118)"
   ]
  },
  {
   "cell_type": "markdown",
   "metadata": {},
   "source": [
    "# Dataset"
   ]
  },
  {
   "cell_type": "markdown",
   "metadata": {},
   "source": [
    "A real dataset will be tackled in this practical assignment.\n",
    "In particular, the [fetal health](https://www.kaggle.com/andrewmvd/fetal-health-classification) dataset of Kaggle, that aims to classify the fetal health in three classes:\n",
    "1. Normal.\n",
    "2. Suspect.\n",
    "3. Pathological.\n",
    "\n",
    "The input data are a set of $21$ variables extracted from the cardiotocographies (CTGs)."
   ]
  },
  {
   "cell_type": "markdown",
   "metadata": {},
   "source": [
    "## Load of the Dataset"
   ]
  },
  {
   "cell_type": "markdown",
   "metadata": {},
   "source": [
    "This cell loads the data, in particular three partitions:\n",
    "1. A training partition, given by `X_tr` and `y_tr`, to train (and validate) the models.\n",
    "2. A test partition, given by `X_te` and `y_te`, to estimate the performance of the model.\n",
    "3. A challenge partition, given by `X_ch`. The real labels are unknown, and hence the predictions should be submitted to know the real performance of the model."
   ]
  },
  {
   "cell_type": "code",
   "execution_count": 8,
   "metadata": {},
   "outputs": [],
   "source": [
    "rootf = \"./Data/fetal_health\"\n",
    "\n",
    "X_tr = np.loadtxt(rootf + \"_tr.dat\")\n",
    "X_te = np.loadtxt(rootf + \"_te.dat\")\n",
    "X_ch = np.loadtxt(rootf + \"_ch.dat\")\n",
    "\n",
    "y_tr = np.loadtxt(rootf + \"_tr.lab\")\n",
    "y_te = np.loadtxt(rootf + \"_te.lab\")\n",
    "\n",
    "\n",
    "features = [line.rstrip('\\n') for line in open(\"./Data/fetal_health.head\")]\n",
    "n_features = len(features)"
   ]
  },
  {
   "cell_type": "markdown",
   "metadata": {},
   "source": [
    "## Initial Incomplete Analysis"
   ]
  },
  {
   "cell_type": "code",
   "execution_count": 9,
   "metadata": {
    "scrolled": false
   },
   "outputs": [
    {
     "name": "stdout",
     "output_type": "stream",
     "text": [
      "21\n"
     ]
    }
   ],
   "source": [
    "# number of features\n",
    "print(n_features)"
   ]
  },
  {
   "cell_type": "code",
   "execution_count": 10,
   "metadata": {
    "scrolled": true
   },
   "outputs": [
    {
     "data": {
      "text/plain": [
       "1126"
      ]
     },
     "execution_count": 10,
     "metadata": {},
     "output_type": "execute_result"
    }
   ],
   "source": [
    "# number of patients\n",
    "len(X_tr)"
   ]
  },
  {
   "cell_type": "code",
   "execution_count": 11,
   "metadata": {
    "scrolled": true
   },
   "outputs": [
    {
     "data": {
      "text/html": [
       "<div>\n",
       "<style scoped>\n",
       "    .dataframe tbody tr th:only-of-type {\n",
       "        vertical-align: middle;\n",
       "    }\n",
       "\n",
       "    .dataframe tbody tr th {\n",
       "        vertical-align: top;\n",
       "    }\n",
       "\n",
       "    .dataframe thead th {\n",
       "        text-align: right;\n",
       "    }\n",
       "</style>\n",
       "<table border=\"1\" class=\"dataframe\">\n",
       "  <thead>\n",
       "    <tr style=\"text-align: right;\">\n",
       "      <th></th>\n",
       "      <th>baseline value</th>\n",
       "      <th>accelerations</th>\n",
       "      <th>fetal movement</th>\n",
       "      <th>uterine contractions</th>\n",
       "      <th>light decelerations</th>\n",
       "      <th>severe decelerations</th>\n",
       "      <th>prolongued decelerations</th>\n",
       "      <th>abnormal short term variability</th>\n",
       "      <th>mean value of short term variability</th>\n",
       "      <th>percentage of time with abnormal long term variability</th>\n",
       "      <th>...</th>\n",
       "      <th>histogram min</th>\n",
       "      <th>histogram max</th>\n",
       "      <th>histogram number of peaks</th>\n",
       "      <th>histogram number of zeroes</th>\n",
       "      <th>histogram mode</th>\n",
       "      <th>histogram mean</th>\n",
       "      <th>histogram median</th>\n",
       "      <th>histogram variance</th>\n",
       "      <th>histogram tendency</th>\n",
       "      <th>y</th>\n",
       "    </tr>\n",
       "  </thead>\n",
       "  <tbody>\n",
       "    <tr>\n",
       "      <th>count</th>\n",
       "      <td>1126.000000</td>\n",
       "      <td>1126.000000</td>\n",
       "      <td>1126.000000</td>\n",
       "      <td>1126.000000</td>\n",
       "      <td>1126.000000</td>\n",
       "      <td>1126.000000</td>\n",
       "      <td>1126.000000</td>\n",
       "      <td>1126.000000</td>\n",
       "      <td>1126.000000</td>\n",
       "      <td>1126.000000</td>\n",
       "      <td>...</td>\n",
       "      <td>1126.000000</td>\n",
       "      <td>1126.000000</td>\n",
       "      <td>1126.000000</td>\n",
       "      <td>1126.000000</td>\n",
       "      <td>1126.000000</td>\n",
       "      <td>1126.000000</td>\n",
       "      <td>1126.000000</td>\n",
       "      <td>1126.000000</td>\n",
       "      <td>1126.000000</td>\n",
       "      <td>1126.000000</td>\n",
       "    </tr>\n",
       "    <tr>\n",
       "      <th>mean</th>\n",
       "      <td>133.515098</td>\n",
       "      <td>0.003189</td>\n",
       "      <td>0.009187</td>\n",
       "      <td>0.004289</td>\n",
       "      <td>0.001860</td>\n",
       "      <td>0.000004</td>\n",
       "      <td>0.000159</td>\n",
       "      <td>47.341030</td>\n",
       "      <td>1.311545</td>\n",
       "      <td>10.170515</td>\n",
       "      <td>...</td>\n",
       "      <td>93.847247</td>\n",
       "      <td>164.268206</td>\n",
       "      <td>4.043517</td>\n",
       "      <td>0.306394</td>\n",
       "      <td>137.595915</td>\n",
       "      <td>134.753996</td>\n",
       "      <td>138.320604</td>\n",
       "      <td>18.868561</td>\n",
       "      <td>0.333925</td>\n",
       "      <td>1.303730</td>\n",
       "    </tr>\n",
       "    <tr>\n",
       "      <th>std</th>\n",
       "      <td>9.952297</td>\n",
       "      <td>0.003874</td>\n",
       "      <td>0.045159</td>\n",
       "      <td>0.002998</td>\n",
       "      <td>0.002948</td>\n",
       "      <td>0.000067</td>\n",
       "      <td>0.000617</td>\n",
       "      <td>16.995138</td>\n",
       "      <td>0.867953</td>\n",
       "      <td>18.825969</td>\n",
       "      <td>...</td>\n",
       "      <td>29.959999</td>\n",
       "      <td>18.210546</td>\n",
       "      <td>2.906677</td>\n",
       "      <td>0.694930</td>\n",
       "      <td>16.866934</td>\n",
       "      <td>15.869380</td>\n",
       "      <td>14.671674</td>\n",
       "      <td>30.135259</td>\n",
       "      <td>0.608418</td>\n",
       "      <td>0.614003</td>\n",
       "    </tr>\n",
       "    <tr>\n",
       "      <th>min</th>\n",
       "      <td>106.000000</td>\n",
       "      <td>0.000000</td>\n",
       "      <td>0.000000</td>\n",
       "      <td>0.000000</td>\n",
       "      <td>0.000000</td>\n",
       "      <td>0.000000</td>\n",
       "      <td>0.000000</td>\n",
       "      <td>12.000000</td>\n",
       "      <td>0.200000</td>\n",
       "      <td>0.000000</td>\n",
       "      <td>...</td>\n",
       "      <td>50.000000</td>\n",
       "      <td>122.000000</td>\n",
       "      <td>0.000000</td>\n",
       "      <td>0.000000</td>\n",
       "      <td>60.000000</td>\n",
       "      <td>75.000000</td>\n",
       "      <td>77.000000</td>\n",
       "      <td>0.000000</td>\n",
       "      <td>-1.000000</td>\n",
       "      <td>1.000000</td>\n",
       "    </tr>\n",
       "    <tr>\n",
       "      <th>25%</th>\n",
       "      <td>126.250000</td>\n",
       "      <td>0.000000</td>\n",
       "      <td>0.000000</td>\n",
       "      <td>0.002000</td>\n",
       "      <td>0.000000</td>\n",
       "      <td>0.000000</td>\n",
       "      <td>0.000000</td>\n",
       "      <td>33.000000</td>\n",
       "      <td>0.700000</td>\n",
       "      <td>0.000000</td>\n",
       "      <td>...</td>\n",
       "      <td>66.000000</td>\n",
       "      <td>152.000000</td>\n",
       "      <td>2.000000</td>\n",
       "      <td>0.000000</td>\n",
       "      <td>129.000000</td>\n",
       "      <td>125.000000</td>\n",
       "      <td>129.000000</td>\n",
       "      <td>2.000000</td>\n",
       "      <td>0.000000</td>\n",
       "      <td>1.000000</td>\n",
       "    </tr>\n",
       "    <tr>\n",
       "      <th>50%</th>\n",
       "      <td>133.000000</td>\n",
       "      <td>0.002000</td>\n",
       "      <td>0.000000</td>\n",
       "      <td>0.004000</td>\n",
       "      <td>0.000000</td>\n",
       "      <td>0.000000</td>\n",
       "      <td>0.000000</td>\n",
       "      <td>50.000000</td>\n",
       "      <td>1.100000</td>\n",
       "      <td>0.000000</td>\n",
       "      <td>...</td>\n",
       "      <td>94.000000</td>\n",
       "      <td>163.000000</td>\n",
       "      <td>3.000000</td>\n",
       "      <td>0.000000</td>\n",
       "      <td>139.000000</td>\n",
       "      <td>136.000000</td>\n",
       "      <td>139.000000</td>\n",
       "      <td>7.000000</td>\n",
       "      <td>0.000000</td>\n",
       "      <td>1.000000</td>\n",
       "    </tr>\n",
       "    <tr>\n",
       "      <th>75%</th>\n",
       "      <td>141.000000</td>\n",
       "      <td>0.005000</td>\n",
       "      <td>0.003000</td>\n",
       "      <td>0.006000</td>\n",
       "      <td>0.003000</td>\n",
       "      <td>0.000000</td>\n",
       "      <td>0.000000</td>\n",
       "      <td>61.000000</td>\n",
       "      <td>1.700000</td>\n",
       "      <td>11.750000</td>\n",
       "      <td>...</td>\n",
       "      <td>120.000000</td>\n",
       "      <td>175.000000</td>\n",
       "      <td>6.000000</td>\n",
       "      <td>0.000000</td>\n",
       "      <td>148.000000</td>\n",
       "      <td>146.000000</td>\n",
       "      <td>149.000000</td>\n",
       "      <td>23.750000</td>\n",
       "      <td>1.000000</td>\n",
       "      <td>1.000000</td>\n",
       "    </tr>\n",
       "    <tr>\n",
       "      <th>max</th>\n",
       "      <td>160.000000</td>\n",
       "      <td>0.019000</td>\n",
       "      <td>0.477000</td>\n",
       "      <td>0.015000</td>\n",
       "      <td>0.015000</td>\n",
       "      <td>0.001000</td>\n",
       "      <td>0.005000</td>\n",
       "      <td>86.000000</td>\n",
       "      <td>7.000000</td>\n",
       "      <td>91.000000</td>\n",
       "      <td>...</td>\n",
       "      <td>159.000000</td>\n",
       "      <td>238.000000</td>\n",
       "      <td>16.000000</td>\n",
       "      <td>10.000000</td>\n",
       "      <td>187.000000</td>\n",
       "      <td>182.000000</td>\n",
       "      <td>186.000000</td>\n",
       "      <td>269.000000</td>\n",
       "      <td>1.000000</td>\n",
       "      <td>3.000000</td>\n",
       "    </tr>\n",
       "  </tbody>\n",
       "</table>\n",
       "<p>8 rows × 22 columns</p>\n",
       "</div>"
      ],
      "text/plain": [
       "       baseline value  accelerations  fetal movement  uterine contractions  \\\n",
       "count     1126.000000    1126.000000     1126.000000           1126.000000   \n",
       "mean       133.515098       0.003189        0.009187              0.004289   \n",
       "std          9.952297       0.003874        0.045159              0.002998   \n",
       "min        106.000000       0.000000        0.000000              0.000000   \n",
       "25%        126.250000       0.000000        0.000000              0.002000   \n",
       "50%        133.000000       0.002000        0.000000              0.004000   \n",
       "75%        141.000000       0.005000        0.003000              0.006000   \n",
       "max        160.000000       0.019000        0.477000              0.015000   \n",
       "\n",
       "       light decelerations  severe decelerations  prolongued decelerations  \\\n",
       "count          1126.000000           1126.000000               1126.000000   \n",
       "mean              0.001860              0.000004                  0.000159   \n",
       "std               0.002948              0.000067                  0.000617   \n",
       "min               0.000000              0.000000                  0.000000   \n",
       "25%               0.000000              0.000000                  0.000000   \n",
       "50%               0.000000              0.000000                  0.000000   \n",
       "75%               0.003000              0.000000                  0.000000   \n",
       "max               0.015000              0.001000                  0.005000   \n",
       "\n",
       "       abnormal short term variability  mean value of short term variability  \\\n",
       "count                      1126.000000                           1126.000000   \n",
       "mean                         47.341030                              1.311545   \n",
       "std                          16.995138                              0.867953   \n",
       "min                          12.000000                              0.200000   \n",
       "25%                          33.000000                              0.700000   \n",
       "50%                          50.000000                              1.100000   \n",
       "75%                          61.000000                              1.700000   \n",
       "max                          86.000000                              7.000000   \n",
       "\n",
       "       percentage of time with abnormal long term variability  ...  \\\n",
       "count                                        1126.000000       ...   \n",
       "mean                                           10.170515       ...   \n",
       "std                                            18.825969       ...   \n",
       "min                                             0.000000       ...   \n",
       "25%                                             0.000000       ...   \n",
       "50%                                             0.000000       ...   \n",
       "75%                                            11.750000       ...   \n",
       "max                                            91.000000       ...   \n",
       "\n",
       "       histogram min  histogram max  histogram number of peaks  \\\n",
       "count    1126.000000    1126.000000                1126.000000   \n",
       "mean       93.847247     164.268206                   4.043517   \n",
       "std        29.959999      18.210546                   2.906677   \n",
       "min        50.000000     122.000000                   0.000000   \n",
       "25%        66.000000     152.000000                   2.000000   \n",
       "50%        94.000000     163.000000                   3.000000   \n",
       "75%       120.000000     175.000000                   6.000000   \n",
       "max       159.000000     238.000000                  16.000000   \n",
       "\n",
       "       histogram number of zeroes  histogram mode  histogram mean  \\\n",
       "count                 1126.000000     1126.000000     1126.000000   \n",
       "mean                     0.306394      137.595915      134.753996   \n",
       "std                      0.694930       16.866934       15.869380   \n",
       "min                      0.000000       60.000000       75.000000   \n",
       "25%                      0.000000      129.000000      125.000000   \n",
       "50%                      0.000000      139.000000      136.000000   \n",
       "75%                      0.000000      148.000000      146.000000   \n",
       "max                     10.000000      187.000000      182.000000   \n",
       "\n",
       "       histogram median  histogram variance  histogram tendency            y  \n",
       "count       1126.000000         1126.000000         1126.000000  1126.000000  \n",
       "mean         138.320604           18.868561            0.333925     1.303730  \n",
       "std           14.671674           30.135259            0.608418     0.614003  \n",
       "min           77.000000            0.000000           -1.000000     1.000000  \n",
       "25%          129.000000            2.000000            0.000000     1.000000  \n",
       "50%          139.000000            7.000000            0.000000     1.000000  \n",
       "75%          149.000000           23.750000            1.000000     1.000000  \n",
       "max          186.000000          269.000000            1.000000     3.000000  \n",
       "\n",
       "[8 rows x 22 columns]"
      ]
     },
     "execution_count": 11,
     "metadata": {},
     "output_type": "execute_result"
    }
   ],
   "source": [
    "X_df = pd.DataFrame(data=X_tr, columns=features)\n",
    "X_df['y'] = y_tr\n",
    "X_df.describe()"
   ]
  },
  {
   "cell_type": "markdown",
   "metadata": {},
   "source": [
    "Plot of the data over the first two features."
   ]
  },
  {
   "cell_type": "code",
   "execution_count": 12,
   "metadata": {
    "scrolled": true
   },
   "outputs": [
    {
     "data": {
      "image/png": "[encoded data removed]",
      "text/plain": [
       "<Figure size 1080x360 with 1 Axes>"
      ]
     },
     "metadata": {
      "needs_background": "light"
     },
     "output_type": "display_data"
    }
   ],
   "source": [
    "plot_dataset_clas(X_tr, y_tr)\n",
    "plt.xlabel(features[0])\n",
    "plt.ylabel(features[1])\n",
    "plt.axis(\"auto\")\n",
    "plt.show()"
   ]
  },
  {
   "cell_type": "markdown",
   "metadata": {},
   "source": [
    "Balance of the dataset."
   ]
  },
  {
   "cell_type": "code",
   "execution_count": 13,
   "metadata": {},
   "outputs": [
    {
     "name": "stdout",
     "output_type": "stream",
     "text": [
      "Class 1: 877 samples (77.89%)\n",
      "Class 2: 156 samples (13.85%)\n",
      "Class 3:  93 samples ( 8.26%)\n"
     ]
    }
   ],
   "source": [
    "for lab in np.unique(y_tr):\n",
    "    n_sam = np.sum(y_tr == lab)\n",
    "    print(\"Class %d: %3d samples (%5.2f%%)\" % (lab, n_sam, 100.0 * n_sam / len(y_tr)))"
   ]
  },
  {
   "cell_type": "code",
   "execution_count": 14,
   "metadata": {
    "scrolled": true
   },
   "outputs": [
    {
     "data": {
      "text/html": [
       "<div>\n",
       "<style scoped>\n",
       "    .dataframe tbody tr th:only-of-type {\n",
       "        vertical-align: middle;\n",
       "    }\n",
       "\n",
       "    .dataframe tbody tr th {\n",
       "        vertical-align: top;\n",
       "    }\n",
       "\n",
       "    .dataframe thead th {\n",
       "        text-align: right;\n",
       "    }\n",
       "</style>\n",
       "<table border=\"1\" class=\"dataframe\">\n",
       "  <thead>\n",
       "    <tr style=\"text-align: right;\">\n",
       "      <th></th>\n",
       "      <th>count</th>\n",
       "      <th>mean</th>\n",
       "      <th>std</th>\n",
       "      <th>min</th>\n",
       "      <th>25%</th>\n",
       "      <th>50%</th>\n",
       "      <th>75%</th>\n",
       "      <th>max</th>\n",
       "    </tr>\n",
       "  </thead>\n",
       "  <tbody>\n",
       "    <tr>\n",
       "      <th>baseline value</th>\n",
       "      <td>1126.0</td>\n",
       "      <td>133.515098</td>\n",
       "      <td>9.952297</td>\n",
       "      <td>106.0</td>\n",
       "      <td>126.250</td>\n",
       "      <td>133.000</td>\n",
       "      <td>141.000</td>\n",
       "      <td>160.000</td>\n",
       "    </tr>\n",
       "    <tr>\n",
       "      <th>accelerations</th>\n",
       "      <td>1126.0</td>\n",
       "      <td>0.003189</td>\n",
       "      <td>0.003874</td>\n",
       "      <td>0.0</td>\n",
       "      <td>0.000</td>\n",
       "      <td>0.002</td>\n",
       "      <td>0.005</td>\n",
       "      <td>0.019</td>\n",
       "    </tr>\n",
       "    <tr>\n",
       "      <th>fetal movement</th>\n",
       "      <td>1126.0</td>\n",
       "      <td>0.009187</td>\n",
       "      <td>0.045159</td>\n",
       "      <td>0.0</td>\n",
       "      <td>0.000</td>\n",
       "      <td>0.000</td>\n",
       "      <td>0.003</td>\n",
       "      <td>0.477</td>\n",
       "    </tr>\n",
       "    <tr>\n",
       "      <th>uterine contractions</th>\n",
       "      <td>1126.0</td>\n",
       "      <td>0.004289</td>\n",
       "      <td>0.002998</td>\n",
       "      <td>0.0</td>\n",
       "      <td>0.002</td>\n",
       "      <td>0.004</td>\n",
       "      <td>0.006</td>\n",
       "      <td>0.015</td>\n",
       "    </tr>\n",
       "    <tr>\n",
       "      <th>light decelerations</th>\n",
       "      <td>1126.0</td>\n",
       "      <td>0.001860</td>\n",
       "      <td>0.002948</td>\n",
       "      <td>0.0</td>\n",
       "      <td>0.000</td>\n",
       "      <td>0.000</td>\n",
       "      <td>0.003</td>\n",
       "      <td>0.015</td>\n",
       "    </tr>\n",
       "    <tr>\n",
       "      <th>severe decelerations</th>\n",
       "      <td>1126.0</td>\n",
       "      <td>0.000004</td>\n",
       "      <td>0.000067</td>\n",
       "      <td>0.0</td>\n",
       "      <td>0.000</td>\n",
       "      <td>0.000</td>\n",
       "      <td>0.000</td>\n",
       "      <td>0.001</td>\n",
       "    </tr>\n",
       "    <tr>\n",
       "      <th>prolongued decelerations</th>\n",
       "      <td>1126.0</td>\n",
       "      <td>0.000159</td>\n",
       "      <td>0.000617</td>\n",
       "      <td>0.0</td>\n",
       "      <td>0.000</td>\n",
       "      <td>0.000</td>\n",
       "      <td>0.000</td>\n",
       "      <td>0.005</td>\n",
       "    </tr>\n",
       "    <tr>\n",
       "      <th>abnormal short term variability</th>\n",
       "      <td>1126.0</td>\n",
       "      <td>47.341030</td>\n",
       "      <td>16.995138</td>\n",
       "      <td>12.0</td>\n",
       "      <td>33.000</td>\n",
       "      <td>50.000</td>\n",
       "      <td>61.000</td>\n",
       "      <td>86.000</td>\n",
       "    </tr>\n",
       "    <tr>\n",
       "      <th>mean value of short term variability</th>\n",
       "      <td>1126.0</td>\n",
       "      <td>1.311545</td>\n",
       "      <td>0.867953</td>\n",
       "      <td>0.2</td>\n",
       "      <td>0.700</td>\n",
       "      <td>1.100</td>\n",
       "      <td>1.700</td>\n",
       "      <td>7.000</td>\n",
       "    </tr>\n",
       "    <tr>\n",
       "      <th>percentage of time with abnormal long term variability</th>\n",
       "      <td>1126.0</td>\n",
       "      <td>10.170515</td>\n",
       "      <td>18.825969</td>\n",
       "      <td>0.0</td>\n",
       "      <td>0.000</td>\n",
       "      <td>0.000</td>\n",
       "      <td>11.750</td>\n",
       "      <td>91.000</td>\n",
       "    </tr>\n",
       "    <tr>\n",
       "      <th>mean value of long term variability</th>\n",
       "      <td>1126.0</td>\n",
       "      <td>8.123890</td>\n",
       "      <td>5.745369</td>\n",
       "      <td>0.0</td>\n",
       "      <td>4.500</td>\n",
       "      <td>7.400</td>\n",
       "      <td>10.975</td>\n",
       "      <td>50.700</td>\n",
       "    </tr>\n",
       "    <tr>\n",
       "      <th>histogram width</th>\n",
       "      <td>1126.0</td>\n",
       "      <td>70.420959</td>\n",
       "      <td>39.468113</td>\n",
       "      <td>3.0</td>\n",
       "      <td>37.000</td>\n",
       "      <td>67.000</td>\n",
       "      <td>100.750</td>\n",
       "      <td>180.000</td>\n",
       "    </tr>\n",
       "    <tr>\n",
       "      <th>histogram min</th>\n",
       "      <td>1126.0</td>\n",
       "      <td>93.847247</td>\n",
       "      <td>29.959999</td>\n",
       "      <td>50.0</td>\n",
       "      <td>66.000</td>\n",
       "      <td>94.000</td>\n",
       "      <td>120.000</td>\n",
       "      <td>159.000</td>\n",
       "    </tr>\n",
       "    <tr>\n",
       "      <th>histogram max</th>\n",
       "      <td>1126.0</td>\n",
       "      <td>164.268206</td>\n",
       "      <td>18.210546</td>\n",
       "      <td>122.0</td>\n",
       "      <td>152.000</td>\n",
       "      <td>163.000</td>\n",
       "      <td>175.000</td>\n",
       "      <td>238.000</td>\n",
       "    </tr>\n",
       "    <tr>\n",
       "      <th>histogram number of peaks</th>\n",
       "      <td>1126.0</td>\n",
       "      <td>4.043517</td>\n",
       "      <td>2.906677</td>\n",
       "      <td>0.0</td>\n",
       "      <td>2.000</td>\n",
       "      <td>3.000</td>\n",
       "      <td>6.000</td>\n",
       "      <td>16.000</td>\n",
       "    </tr>\n",
       "    <tr>\n",
       "      <th>histogram number of zeroes</th>\n",
       "      <td>1126.0</td>\n",
       "      <td>0.306394</td>\n",
       "      <td>0.694930</td>\n",
       "      <td>0.0</td>\n",
       "      <td>0.000</td>\n",
       "      <td>0.000</td>\n",
       "      <td>0.000</td>\n",
       "      <td>10.000</td>\n",
       "    </tr>\n",
       "    <tr>\n",
       "      <th>histogram mode</th>\n",
       "      <td>1126.0</td>\n",
       "      <td>137.595915</td>\n",
       "      <td>16.866934</td>\n",
       "      <td>60.0</td>\n",
       "      <td>129.000</td>\n",
       "      <td>139.000</td>\n",
       "      <td>148.000</td>\n",
       "      <td>187.000</td>\n",
       "    </tr>\n",
       "    <tr>\n",
       "      <th>histogram mean</th>\n",
       "      <td>1126.0</td>\n",
       "      <td>134.753996</td>\n",
       "      <td>15.869380</td>\n",
       "      <td>75.0</td>\n",
       "      <td>125.000</td>\n",
       "      <td>136.000</td>\n",
       "      <td>146.000</td>\n",
       "      <td>182.000</td>\n",
       "    </tr>\n",
       "    <tr>\n",
       "      <th>histogram median</th>\n",
       "      <td>1126.0</td>\n",
       "      <td>138.320604</td>\n",
       "      <td>14.671674</td>\n",
       "      <td>77.0</td>\n",
       "      <td>129.000</td>\n",
       "      <td>139.000</td>\n",
       "      <td>149.000</td>\n",
       "      <td>186.000</td>\n",
       "    </tr>\n",
       "    <tr>\n",
       "      <th>histogram variance</th>\n",
       "      <td>1126.0</td>\n",
       "      <td>18.868561</td>\n",
       "      <td>30.135259</td>\n",
       "      <td>0.0</td>\n",
       "      <td>2.000</td>\n",
       "      <td>7.000</td>\n",
       "      <td>23.750</td>\n",
       "      <td>269.000</td>\n",
       "    </tr>\n",
       "    <tr>\n",
       "      <th>histogram tendency</th>\n",
       "      <td>1126.0</td>\n",
       "      <td>0.333925</td>\n",
       "      <td>0.608418</td>\n",
       "      <td>-1.0</td>\n",
       "      <td>0.000</td>\n",
       "      <td>0.000</td>\n",
       "      <td>1.000</td>\n",
       "      <td>1.000</td>\n",
       "    </tr>\n",
       "    <tr>\n",
       "      <th>y</th>\n",
       "      <td>1126.0</td>\n",
       "      <td>1.303730</td>\n",
       "      <td>0.614003</td>\n",
       "      <td>1.0</td>\n",
       "      <td>1.000</td>\n",
       "      <td>1.000</td>\n",
       "      <td>1.000</td>\n",
       "      <td>3.000</td>\n",
       "    </tr>\n",
       "  </tbody>\n",
       "</table>\n",
       "</div>"
      ],
      "text/plain": [
       "                                                     count        mean  \\\n",
       "baseline value                                      1126.0  133.515098   \n",
       "accelerations                                       1126.0    0.003189   \n",
       "fetal movement                                      1126.0    0.009187   \n",
       "uterine contractions                                1126.0    0.004289   \n",
       "light decelerations                                 1126.0    0.001860   \n",
       "severe decelerations                                1126.0    0.000004   \n",
       "prolongued decelerations                            1126.0    0.000159   \n",
       "abnormal short term variability                     1126.0   47.341030   \n",
       "mean value of short term variability                1126.0    1.311545   \n",
       "percentage of time with abnormal long term vari...  1126.0   10.170515   \n",
       "mean value of long term variability                 1126.0    8.123890   \n",
       "histogram width                                     1126.0   70.420959   \n",
       "histogram min                                       1126.0   93.847247   \n",
       "histogram max                                       1126.0  164.268206   \n",
       "histogram number of peaks                           1126.0    4.043517   \n",
       "histogram number of zeroes                          1126.0    0.306394   \n",
       "histogram mode                                      1126.0  137.595915   \n",
       "histogram mean                                      1126.0  134.753996   \n",
       "histogram median                                    1126.0  138.320604   \n",
       "histogram variance                                  1126.0   18.868561   \n",
       "histogram tendency                                  1126.0    0.333925   \n",
       "y                                                   1126.0    1.303730   \n",
       "\n",
       "                                                          std    min      25%  \\\n",
       "baseline value                                       9.952297  106.0  126.250   \n",
       "accelerations                                        0.003874    0.0    0.000   \n",
       "fetal movement                                       0.045159    0.0    0.000   \n",
       "uterine contractions                                 0.002998    0.0    0.002   \n",
       "light decelerations                                  0.002948    0.0    0.000   \n",
       "severe decelerations                                 0.000067    0.0    0.000   \n",
       "prolongued decelerations                             0.000617    0.0    0.000   \n",
       "abnormal short term variability                     16.995138   12.0   33.000   \n",
       "mean value of short term variability                 0.867953    0.2    0.700   \n",
       "percentage of time with abnormal long term vari...  18.825969    0.0    0.000   \n",
       "mean value of long term variability                  5.745369    0.0    4.500   \n",
       "histogram width                                     39.468113    3.0   37.000   \n",
       "histogram min                                       29.959999   50.0   66.000   \n",
       "histogram max                                       18.210546  122.0  152.000   \n",
       "histogram number of peaks                            2.906677    0.0    2.000   \n",
       "histogram number of zeroes                           0.694930    0.0    0.000   \n",
       "histogram mode                                      16.866934   60.0  129.000   \n",
       "histogram mean                                      15.869380   75.0  125.000   \n",
       "histogram median                                    14.671674   77.0  129.000   \n",
       "histogram variance                                  30.135259    0.0    2.000   \n",
       "histogram tendency                                   0.608418   -1.0    0.000   \n",
       "y                                                    0.614003    1.0    1.000   \n",
       "\n",
       "                                                        50%      75%      max  \n",
       "baseline value                                      133.000  141.000  160.000  \n",
       "accelerations                                         0.002    0.005    0.019  \n",
       "fetal movement                                        0.000    0.003    0.477  \n",
       "uterine contractions                                  0.004    0.006    0.015  \n",
       "light decelerations                                   0.000    0.003    0.015  \n",
       "severe decelerations                                  0.000    0.000    0.001  \n",
       "prolongued decelerations                              0.000    0.000    0.005  \n",
       "abnormal short term variability                      50.000   61.000   86.000  \n",
       "mean value of short term variability                  1.100    1.700    7.000  \n",
       "percentage of time with abnormal long term vari...    0.000   11.750   91.000  \n",
       "mean value of long term variability                   7.400   10.975   50.700  \n",
       "histogram width                                      67.000  100.750  180.000  \n",
       "histogram min                                        94.000  120.000  159.000  \n",
       "histogram max                                       163.000  175.000  238.000  \n",
       "histogram number of peaks                             3.000    6.000   16.000  \n",
       "histogram number of zeroes                            0.000    0.000   10.000  \n",
       "histogram mode                                      139.000  148.000  187.000  \n",
       "histogram mean                                      136.000  146.000  182.000  \n",
       "histogram median                                    139.000  149.000  186.000  \n",
       "histogram variance                                    7.000   23.750  269.000  \n",
       "histogram tendency                                    0.000    1.000    1.000  \n",
       "y                                                     1.000    1.000    3.000  "
      ]
     },
     "execution_count": 14,
     "metadata": {},
     "output_type": "execute_result"
    }
   ],
   "source": [
    "# Analyse statically insight of data\n",
    "\n",
    "X_df = pd.DataFrame(data=X_tr, columns=features)\n",
    "X_df['y'] = y_tr\n",
    "X_df.describe().T"
   ]
  },
  {
   "cell_type": "code",
   "execution_count": 15,
   "metadata": {
    "scrolled": true
   },
   "outputs": [
    {
     "data": {
      "text/plain": [
       "baseline value                                            0\n",
       "accelerations                                             0\n",
       "fetal movement                                            0\n",
       "uterine contractions                                      0\n",
       "light decelerations                                       0\n",
       "severe decelerations                                      0\n",
       "prolongued decelerations                                  0\n",
       "abnormal short term variability                           0\n",
       "mean value of short term variability                      0\n",
       "percentage of time with abnormal long term variability    0\n",
       "mean value of long term variability                       0\n",
       "histogram width                                           0\n",
       "histogram min                                             0\n",
       "histogram max                                             0\n",
       "histogram number of peaks                                 0\n",
       "histogram number of zeroes                                0\n",
       "histogram mode                                            0\n",
       "histogram mean                                            0\n",
       "histogram median                                          0\n",
       "histogram variance                                        0\n",
       "histogram tendency                                        0\n",
       "y                                                         0\n",
       "dtype: int64"
      ]
     },
     "execution_count": 15,
     "metadata": {},
     "output_type": "execute_result"
    }
   ],
   "source": [
    "X_df.isnull().sum()\n",
    "\n",
    "# there's no null values in our data"
   ]
  },
  {
   "cell_type": "code",
   "execution_count": 16,
   "metadata": {},
   "outputs": [],
   "source": [
    "numeric_X_df = X_df.select_dtypes(exclude=\"object\")\n",
    "numeric_corr = numeric_X_df.corr()"
   ]
  },
  {
   "cell_type": "code",
   "execution_count": 17,
   "metadata": {
    "scrolled": true
   },
   "outputs": [
    {
     "data": {
      "image/png": "[encoded data removed]",
      "text/plain": [
       "<Figure size 1800x72 with 2 Axes>"
      ]
     },
     "metadata": {
      "needs_background": "light"
     },
     "output_type": "display_data"
    }
   ],
   "source": [
    "f,ax=plt.subplots(figsize=(25,1))\n",
    "sns.heatmap(numeric_corr.sort_values(by=[\"y\"], ascending=False).head(1), cmap=\"GnBu\")\n",
    "plt.title(\"Numerical features correlation with the fetal health\", weight=\"bold\", fontsize=18, color=\"#5F9EA0\")\n",
    "plt.yticks(weight=\"bold\", color=\"darkgreen\", rotation=0)\n",
    "\n",
    "plt.show()"
   ]
  },
  {
   "cell_type": "code",
   "execution_count": 18,
   "metadata": {
    "scrolled": true
   },
   "outputs": [
    {
     "data": {
      "text/html": [
       "<style  type=\"text/css\" >\n",
       "    #T_701d1f69_b687_11eb_9494_950d40555b73row0_col0 {\n",
       "            background-color:  #5f9ea0;\n",
       "            color:  #000000;\n",
       "        }    #T_701d1f69_b687_11eb_9494_950d40555b73row1_col0 {\n",
       "            background-color:  #9ac2c3;\n",
       "            color:  #000000;\n",
       "        }    #T_701d1f69_b687_11eb_9494_950d40555b73row2_col0 {\n",
       "            background-color:  #9ec4c6;\n",
       "            color:  #000000;\n",
       "        }    #T_701d1f69_b687_11eb_9494_950d40555b73row3_col0 {\n",
       "            background-color:  #a1c6c7;\n",
       "            color:  #000000;\n",
       "        }    #T_701d1f69_b687_11eb_9494_950d40555b73row4_col0 {\n",
       "            background-color:  #b8d4d5;\n",
       "            color:  #000000;\n",
       "        }    #T_701d1f69_b687_11eb_9494_950d40555b73row5_col0 {\n",
       "            background-color:  #c0d9da;\n",
       "            color:  #000000;\n",
       "        }    #T_701d1f69_b687_11eb_9494_950d40555b73row6_col0 {\n",
       "            background-color:  #c4dbdc;\n",
       "            color:  #000000;\n",
       "        }    #T_701d1f69_b687_11eb_9494_950d40555b73row7_col0 {\n",
       "            background-color:  #c7ddde;\n",
       "            color:  #000000;\n",
       "        }    #T_701d1f69_b687_11eb_9494_950d40555b73row8_col0 {\n",
       "            background-color:  #cbdfe0;\n",
       "            color:  #000000;\n",
       "        }    #T_701d1f69_b687_11eb_9494_950d40555b73row9_col0 {\n",
       "            background-color:  #d2e3e4;\n",
       "            color:  #000000;\n",
       "        }    #T_701d1f69_b687_11eb_9494_950d40555b73row10_col0 {\n",
       "            background-color:  #d4e5e6;\n",
       "            color:  #000000;\n",
       "        }    #T_701d1f69_b687_11eb_9494_950d40555b73row11_col0 {\n",
       "            background-color:  #d9e8e8;\n",
       "            color:  #000000;\n",
       "        }    #T_701d1f69_b687_11eb_9494_950d40555b73row12_col0 {\n",
       "            background-color:  #dae8e9;\n",
       "            color:  #000000;\n",
       "        }    #T_701d1f69_b687_11eb_9494_950d40555b73row13_col0 {\n",
       "            background-color:  #ddebeb;\n",
       "            color:  #000000;\n",
       "        }    #T_701d1f69_b687_11eb_9494_950d40555b73row14_col0 {\n",
       "            background-color:  #e0ecec;\n",
       "            color:  #000000;\n",
       "        }    #T_701d1f69_b687_11eb_9494_950d40555b73row15_col0 {\n",
       "            background-color:  #e4eeef;\n",
       "            color:  #000000;\n",
       "        }    #T_701d1f69_b687_11eb_9494_950d40555b73row16_col0 {\n",
       "            background-color:  #ebf3f3;\n",
       "            color:  #000000;\n",
       "        }    #T_701d1f69_b687_11eb_9494_950d40555b73row17_col0 {\n",
       "            background-color:  #edf4f4;\n",
       "            color:  #000000;\n",
       "        }    #T_701d1f69_b687_11eb_9494_950d40555b73row18_col0 {\n",
       "            background-color:  #edf4f4;\n",
       "            color:  #000000;\n",
       "        }    #T_701d1f69_b687_11eb_9494_950d40555b73row19_col0 {\n",
       "            background-color:  #eff5f5;\n",
       "            color:  #000000;\n",
       "        }</style><table id=\"T_701d1f69_b687_11eb_9494_950d40555b73\" ><thead>    <tr>        <th class=\"blank level0\" ></th>        <th class=\"col_heading level0 col0\" >y</th>    </tr></thead><tbody>\n",
       "                <tr>\n",
       "                        <th id=\"T_701d1f69_b687_11eb_9494_950d40555b73level0_row0\" class=\"row_heading level0 row0\" >y</th>\n",
       "                        <td id=\"T_701d1f69_b687_11eb_9494_950d40555b73row0_col0\" class=\"data row0 col0\" >1.000000</td>\n",
       "            </tr>\n",
       "            <tr>\n",
       "                        <th id=\"T_701d1f69_b687_11eb_9494_950d40555b73level0_row1\" class=\"row_heading level0 row1\" >prolongued decelerations</th>\n",
       "                        <td id=\"T_701d1f69_b687_11eb_9494_950d40555b73row1_col0\" class=\"data row1 col0\" >0.496407</td>\n",
       "            </tr>\n",
       "            <tr>\n",
       "                        <th id=\"T_701d1f69_b687_11eb_9494_950d40555b73level0_row2\" class=\"row_heading level0 row2\" >abnormal short term variability</th>\n",
       "                        <td id=\"T_701d1f69_b687_11eb_9494_950d40555b73row2_col0\" class=\"data row2 col0\" >0.460189</td>\n",
       "            </tr>\n",
       "            <tr>\n",
       "                        <th id=\"T_701d1f69_b687_11eb_9494_950d40555b73level0_row3\" class=\"row_heading level0 row3\" >percentage of time with abnormal long term variability</th>\n",
       "                        <td id=\"T_701d1f69_b687_11eb_9494_950d40555b73row3_col0\" class=\"data row3 col0\" >0.440068</td>\n",
       "            </tr>\n",
       "            <tr>\n",
       "                        <th id=\"T_701d1f69_b687_11eb_9494_950d40555b73level0_row4\" class=\"row_heading level0 row4\" >histogram variance</th>\n",
       "                        <td id=\"T_701d1f69_b687_11eb_9494_950d40555b73row4_col0\" class=\"data row4 col0\" >0.235009</td>\n",
       "            </tr>\n",
       "            <tr>\n",
       "                        <th id=\"T_701d1f69_b687_11eb_9494_950d40555b73level0_row5\" class=\"row_heading level0 row5\" >baseline value</th>\n",
       "                        <td id=\"T_701d1f69_b687_11eb_9494_950d40555b73row5_col0\" class=\"data row5 col0\" >0.170314</td>\n",
       "            </tr>\n",
       "            <tr>\n",
       "                        <th id=\"T_701d1f69_b687_11eb_9494_950d40555b73level0_row6\" class=\"row_heading level0 row6\" >severe decelerations</th>\n",
       "                        <td id=\"T_701d1f69_b687_11eb_9494_950d40555b73row6_col0\" class=\"data row6 col0\" >0.141059</td>\n",
       "            </tr>\n",
       "            <tr>\n",
       "                        <th id=\"T_701d1f69_b687_11eb_9494_950d40555b73level0_row7\" class=\"row_heading level0 row7\" >fetal movement</th>\n",
       "                        <td id=\"T_701d1f69_b687_11eb_9494_950d40555b73row7_col0\" class=\"data row7 col0\" >0.110212</td>\n",
       "            </tr>\n",
       "            <tr>\n",
       "                        <th id=\"T_701d1f69_b687_11eb_9494_950d40555b73level0_row8\" class=\"row_heading level0 row8\" >histogram min</th>\n",
       "                        <td id=\"T_701d1f69_b687_11eb_9494_950d40555b73row8_col0\" class=\"data row8 col0\" >0.078920</td>\n",
       "            </tr>\n",
       "            <tr>\n",
       "                        <th id=\"T_701d1f69_b687_11eb_9494_950d40555b73level0_row9\" class=\"row_heading level0 row9\" >light decelerations</th>\n",
       "                        <td id=\"T_701d1f69_b687_11eb_9494_950d40555b73row9_col0\" class=\"data row9 col0\" >0.019148</td>\n",
       "            </tr>\n",
       "            <tr>\n",
       "                        <th id=\"T_701d1f69_b687_11eb_9494_950d40555b73level0_row10\" class=\"row_heading level0 row10\" >histogram number of zeroes</th>\n",
       "                        <td id=\"T_701d1f69_b687_11eb_9494_950d40555b73row10_col0\" class=\"data row10 col0\" >-0.003722</td>\n",
       "            </tr>\n",
       "            <tr>\n",
       "                        <th id=\"T_701d1f69_b687_11eb_9494_950d40555b73level0_row11\" class=\"row_heading level0 row11\" >histogram max</th>\n",
       "                        <td id=\"T_701d1f69_b687_11eb_9494_950d40555b73row11_col0\" class=\"data row11 col0\" >-0.040522</td>\n",
       "            </tr>\n",
       "            <tr>\n",
       "                        <th id=\"T_701d1f69_b687_11eb_9494_950d40555b73level0_row12\" class=\"row_heading level0 row12\" >histogram number of peaks</th>\n",
       "                        <td id=\"T_701d1f69_b687_11eb_9494_950d40555b73row12_col0\" class=\"data row12 col0\" >-0.047755</td>\n",
       "            </tr>\n",
       "            <tr>\n",
       "                        <th id=\"T_701d1f69_b687_11eb_9494_950d40555b73level0_row13\" class=\"row_heading level0 row13\" >histogram width</th>\n",
       "                        <td id=\"T_701d1f69_b687_11eb_9494_950d40555b73row13_col0\" class=\"data row13 col0\" >-0.078604</td>\n",
       "            </tr>\n",
       "            <tr>\n",
       "                        <th id=\"T_701d1f69_b687_11eb_9494_950d40555b73level0_row14\" class=\"row_heading level0 row14\" >mean value of short term variability</th>\n",
       "                        <td id=\"T_701d1f69_b687_11eb_9494_950d40555b73row14_col0\" class=\"data row14 col0\" >-0.101659</td>\n",
       "            </tr>\n",
       "            <tr>\n",
       "                        <th id=\"T_701d1f69_b687_11eb_9494_950d40555b73level0_row15\" class=\"row_heading level0 row15\" >histogram tendency</th>\n",
       "                        <td id=\"T_701d1f69_b687_11eb_9494_950d40555b73row15_col0\" class=\"data row15 col0\" >-0.133731</td>\n",
       "            </tr>\n",
       "            <tr>\n",
       "                        <th id=\"T_701d1f69_b687_11eb_9494_950d40555b73level0_row16\" class=\"row_heading level0 row16\" >histogram median</th>\n",
       "                        <td id=\"T_701d1f69_b687_11eb_9494_950d40555b73row16_col0\" class=\"data row16 col0\" >-0.194844</td>\n",
       "            </tr>\n",
       "            <tr>\n",
       "                        <th id=\"T_701d1f69_b687_11eb_9494_950d40555b73level0_row17\" class=\"row_heading level0 row17\" >uterine contractions</th>\n",
       "                        <td id=\"T_701d1f69_b687_11eb_9494_950d40555b73row17_col0\" class=\"data row17 col0\" >-0.213762</td>\n",
       "            </tr>\n",
       "            <tr>\n",
       "                        <th id=\"T_701d1f69_b687_11eb_9494_950d40555b73level0_row18\" class=\"row_heading level0 row18\" >histogram mean</th>\n",
       "                        <td id=\"T_701d1f69_b687_11eb_9494_950d40555b73row18_col0\" class=\"data row18 col0\" >-0.214277</td>\n",
       "            </tr>\n",
       "            <tr>\n",
       "                        <th id=\"T_701d1f69_b687_11eb_9494_950d40555b73level0_row19\" class=\"row_heading level0 row19\" >mean value of long term variability</th>\n",
       "                        <td id=\"T_701d1f69_b687_11eb_9494_950d40555b73row19_col0\" class=\"data row19 col0\" >-0.232667</td>\n",
       "            </tr>\n",
       "    </tbody></table>"
      ],
      "text/plain": [
       "<pandas.io.formats.style.Styler at 0x2b5854f0400>"
      ]
     },
     "execution_count": 18,
     "metadata": {},
     "output_type": "execute_result"
    }
   ],
   "source": [
    "Num_feature = numeric_corr[\"y\"].sort_values(ascending=False).head(20).to_frame()\n",
    "\n",
    "cm = sns.light_palette(\"#5F9EA0\", as_cmap=True)\n",
    "\n",
    "style = Num_feature.style.background_gradient(cmap=cm)\n",
    "style"
   ]
  },
  {
   "cell_type": "markdown",
   "metadata": {},
   "source": [
    "Basandonos en estos gráficos, podemos decir que \"prolongued decelerations\", \"abnormal short term variability\", \"percentage of time with abnormal long term variability\" son las características con mayor correlación con la salud fetal."
   ]
  },
  {
   "cell_type": "markdown",
   "metadata": {},
   "source": [
    "# Experiments"
   ]
  },
  {
   "cell_type": "markdown",
   "metadata": {},
   "source": [
    "## Experiment 1:Lasso"
   ]
  },
  {
   "cell_type": "code",
   "execution_count": 47,
   "metadata": {},
   "outputs": [
    {
     "name": "stdout",
     "output_type": "stream",
     "text": [
      "{'lasso': Lasso(normalize=True), 'lasso__alpha': 1.0, 'lasso__normalize': True, 'lasso__selection': 'cyclic'}\n"
     ]
    }
   ],
   "source": [
    "pipeline = Pipeline([('scaler',StandardScaler()),('lasso',Lasso())])\n",
    "grid_param = [{\"lasso\": [Lasso()],\"lasso__normalize\" : [True, False],\n",
    "               \"lasso__selection\" : [\"cyclic\",\"random\"],\n",
    "               \"lasso__alpha\": np.linspace(1, 100,) }]\n",
    "gridcv = GridSearchCV(pipeline, grid_param, cv=5,n_jobs=-1) \n",
    "result =gridcv.fit(X_tr,y_tr)\n",
    "\n",
    "print(result.best_params_)"
   ]
  },
  {
   "cell_type": "markdown",
   "metadata": {},
   "source": [
    "## Experiment 2: Nearest Neighbor algorithm"
   ]
  },
  {
   "cell_type": "markdown",
   "metadata": {},
   "source": [
    "* En el primer ejemplo hemos realizado una clasificación con KNN , realizando una escalado previo de los datos y feature selection por ANOVA(F_classif), de manera externa al pipelines. El número de features seleccionadas se ha hecho teniendo en cuenta la correlación de éstas con la salud fetal."
   ]
  },
  {
   "cell_type": "code",
   "execution_count": 33,
   "metadata": {
    "scrolled": true
   },
   "outputs": [
    {
     "name": "stdout",
     "output_type": "stream",
     "text": [
      "                 Acc  Bal. Acc\n",
      "     Train      0.95      0.90\n",
      "      Test      0.91      0.80\n",
      "0.899214250596994\n",
      "{'knn__n_neighbors': 3}\n"
     ]
    }
   ],
   "source": [
    "# Data standarization\n",
    "scaler = preprocessing.StandardScaler().fit(X_tr)\n",
    "X_train_scaled = scaler.transform(X_tr)\n",
    "X_test_scaled = scaler.transform(X_te)\n",
    "X_ch_scaled = scaler.transform(X_ch)\n",
    "\n",
    "# We create a filter to select the required number of features\n",
    "# The filter will be based on the F-statistc \"f_classif\".\n",
    "\n",
    "filtering = SelectKBest(f_classif, k=10)\n",
    "filtering.fit(X_train_scaled, y_tr)\n",
    "\n",
    "# Carrying out the feature selection \n",
    "X_train_sel = filtering.transform(X_train_scaled)\n",
    "X_test_sel = filtering.transform(X_test_scaled)\n",
    "\n",
    "X_ch_sel = filtering.transform(X_ch_scaled)\n",
    "pipeline = Pipeline([ ('knn', KNeighborsClassifier()) ]) # defining the pipline\n",
    "\n",
    "N_neighbors = [1, 3, 5, 7, 11, 15, 20, 25, 30]\n",
    "param_grid = { 'knn__n_neighbors': N_neighbors } \n",
    "\n",
    "skfold = RepeatedStratifiedKFold(n_splits=10, n_repeats=1, random_state=0) # evaluating the performance for each value of the hyperparameters\n",
    "gridcv = GridSearchCV(pipeline, cv=skfold, n_jobs=1, param_grid=param_grid, \\\n",
    "    scoring=make_scorer(accuracy_score))\n",
    "result = gridcv.fit(X_train_sel, y_tr)\n",
    "#En vez de pasar directamente el gridccv a la función de evaluacion del movelos, al estar validando solamente un hiperparametro, lo extraemos de los resultados del modelo\n",
    "#Y entrenamos el modelo aparte,parandole ese mejor hiperparametro, los resultados como es de esperar dan igual que pasando directamente el gridcv ajustados al evaluador de modelos\n",
    "accuracies = gridcv.cv_results_['mean_test_score']\n",
    "std_accuracies = gridcv.cv_results_['std_test_score']\n",
    "\n",
    "best_k_neigh = N_neighbors[ np.argmax(accuracies) ]    \n",
    "\n",
    "# Fitting the final model and estimating its performance\n",
    "knn = KNeighborsClassifier(n_neighbors = best_k_neigh)\n",
    "knn.fit(X_train_sel, y_tr)\n",
    "y_pred = knn.predict(X_test_sel)\n",
    "\n",
    "evaluate_model(knn, X_train_sel, y_tr, X_test_sel, y_te, print_table=True)\n",
    "print(np.mean(accuracies))\n",
    "print(result.best_params_)"
   ]
  },
  {
   "cell_type": "code",
   "execution_count": 15,
   "metadata": {},
   "outputs": [],
   "source": [
    "# Prediction for challenge partitions\n",
    "y_ch_p = knn.predict(X_ch_sel)\n",
    "save_predictions(y_ch_p, n_preds=500)"
   ]
  },
  {
   "cell_type": "markdown",
   "metadata": {},
   "source": [
    "* En este este segundo ejemplo incluimos el StandardScaler y el feature selection por F_classif junto con el clasificador KNN en el pipeline. Como vemos esto nos ahorra tener que realizar varios ajustes y transformaciones de los pasos manualmente y se realizará de manera secuencial e interna en el grid gracias al pipeline."
   ]
  },
  {
   "cell_type": "code",
   "execution_count": 30,
   "metadata": {
    "scrolled": true
   },
   "outputs": [
    {
     "name": "stdout",
     "output_type": "stream",
     "text": [
      "                 Acc  Bal. Acc\n",
      "     Train      0.95      0.90\n",
      "      Test      0.91      0.80\n",
      "nan\n",
      "{'knn__n_neighbors': 3}\n"
     ]
    }
   ],
   "source": [
    "# Choosing values for the number of neighbors (Hyperparameter)\n",
    "pipeline = Pipeline([('scaler',StandardScaler()),('f_classif',SelectKBest(f_classif, k=10)),('knn', KNeighborsClassifier()) ]) # defining the pipline\n",
    "\n",
    "N_neighbors = [1, 3, 5, 7, 11, 15, 20, 25, 30]\n",
    "param_grid = { 'knn__n_neighbors': N_neighbors } \n",
    "\n",
    "skfold = RepeatedStratifiedKFold(n_splits=10, n_repeats=1, random_state=0) # evaluating the performance for each value of the hyperparameters\n",
    "gridcv = GridSearchCV(pipeline, cv=skfold, n_jobs=1, param_grid=param_grid, \\\n",
    "    scoring=make_scorer(accuracy_score))\n",
    "result = gridcv.fit(X_tr, y_tr)\n",
    " \n",
    "# Fitting the final model and estimating its performance\n",
    "evaluate_model(gridcv, X_tr, y_tr, X_te, y_te, print_table=True)\n",
    "print(np.mean(accuracies))\n",
    "print(result.best_params_)"
   ]
  },
  {
   "cell_type": "markdown",
   "metadata": {},
   "source": [
    "Como observamos nos dan los mismos resultados ahorrándonos bastante código. Esto es por éste potencial por el cual hemos utilizado mucho los pipelines a lo largo del código"
   ]
  },
  {
   "cell_type": "markdown",
   "metadata": {},
   "source": [
    "* Tambien hemos comprobado que al realizar KNN sin el filtro f_classif, tanto la Accuracy como la Balanced Acuraccy nos muestran peores resultados"
   ]
  },
  {
   "cell_type": "code",
   "execution_count": 34,
   "metadata": {
    "scrolled": true
   },
   "outputs": [
    {
     "name": "stdout",
     "output_type": "stream",
     "text": [
      "                 Acc  Bal. Acc\n",
      "     Train      0.91      0.78\n",
      "      Test      0.87      0.70\n",
      "0.899214250596994\n",
      "{'knn__n_neighbors': 11}\n"
     ]
    }
   ],
   "source": [
    "\n",
    "# Choosing values for the number of neighbors (Hyperparameter)\n",
    "pipeline = Pipeline([('scaler',StandardScaler()),('knn', KNeighborsClassifier()) ]) # defining the pipline\n",
    "\n",
    "N_neighbors = [1, 3, 5, 7, 11, 15, 20, 25, 30]\n",
    "param_grid = { 'knn__n_neighbors': N_neighbors } \n",
    "\n",
    "skfold = RepeatedStratifiedKFold(n_splits=10, n_repeats=1, random_state=0) # evaluating the performance for each value of the hyperparameters\n",
    "gridcv = GridSearchCV(pipeline, cv=skfold, n_jobs=1, param_grid=param_grid, \\\n",
    "    scoring=make_scorer(accuracy_score))\n",
    "result = gridcv.fit(X_tr, y_tr)\n",
    "   \n",
    "# Fitting the final model and estimating its performance\n",
    "evaluate_model(gridcv, X_tr, y_tr, X_te, y_te, print_table=True)\n",
    "print(np.mean(accuracies))\n",
    "print(result.best_params_)"
   ]
  },
  {
   "cell_type": "markdown",
   "metadata": {},
   "source": [
    "## Experiment 3: Logistic Regression"
   ]
  },
  {
   "cell_type": "markdown",
   "metadata": {},
   "source": [
    "* Inicialmente hemos utilizado el clasificador de regresión logística sin llevar a cabo un filtrado de features."
   ]
  },
  {
   "cell_type": "code",
   "execution_count": 36,
   "metadata": {},
   "outputs": [
    {
     "name": "stdout",
     "output_type": "stream",
     "text": [
      "Fitting 10 folds for each of 288 candidates, totalling 2880 fits\n"
     ]
    },
    {
     "name": "stderr",
     "output_type": "stream",
     "text": [
      "[Parallel(n_jobs=1)]: Using backend SequentialBackend with 1 concurrent workers.\n"
     ]
    },
    {
     "name": "stdout",
     "output_type": "stream",
     "text": [
      "                 Acc  Bal. Acc\n",
      "     Train      0.91      0.81\n",
      "      Test      0.90      0.79\n",
      "nan\n",
      "{'log_reg__C': 0.5, 'log_reg__class_weight': {1: 1, 2: 1.3, 3: 2}, 'log_reg__penalty': 'l2', 'log_reg__solver': 'liblinear'}\n"
     ]
    },
    {
     "name": "stderr",
     "output_type": "stream",
     "text": [
      "[Parallel(n_jobs=1)]: Done 2880 out of 2880 | elapsed:   58.9s finished\n"
     ]
    }
   ],
   "source": [
    "# Choosen the values for the penalty (hyperparameter)\n",
    "\n",
    "pipeline = Pipeline([ ('scaler',StandardScaler()),('log_reg', LogisticRegression()) ])\n",
    "\n",
    "param_grid = {\n",
    "    'log_reg__penalty':['l1', 'l2', 'elasticnet', 'none'],\n",
    "   # 'dual'=False,\n",
    "   # 'tol'=0.0001,\n",
    "    'log_reg__C':[0.5, 1.0, 2.0],\n",
    "   # 'fit_intercept'=True,\n",
    "   # 'intercept_scaling'=1,\n",
    "    'log_reg__class_weight':({1:1, 2:1.3, 3:2}, {1:1, 2:1.5, 3:2.5}, {1:0.5, 2:2, 3:3}, {1:0.5, 2:1.5, 3:4}),\n",
    "   # 'random_state'=None,\n",
    "    'log_reg__solver':['lbfgs', 'newton-cg', 'lbfgs', 'liblinear', 'sag', 'saga'],\n",
    "   # 'max_iter': [400, 300]\n",
    "   # 'multi_class'='auto',\n",
    "   # 'verbose'=0,\n",
    "   # 'warm_start'=False,\n",
    "   # 'n_jobs'=None,\n",
    "    #'l1_ratio'=None,\n",
    "}\n",
    "\n",
    "skfold = RepeatedStratifiedKFold(n_splits=10, n_repeats=1, random_state=0) # evaluating the performance for each value of the hyperparameters\n",
    "gridcv = GridSearchCV(pipeline, cv=skfold, n_jobs=1, param_grid=param_grid, \\\n",
    "    scoring=make_scorer(accuracy_score),verbose = 1)\n",
    "result = gridcv.fit(X_tr, y_tr)\n",
    "\n",
    "accuracies = gridcv.cv_results_['mean_test_score']\n",
    "std_accuracies = gridcv.cv_results_['std_test_score']\n",
    "\n",
    "\n",
    "evaluate_model(gridcv, X_tr, y_tr, X_te, y_te, print_table=True)\n",
    "print(np.mean(accuracies))\n",
    "print(result.best_params_)"
   ]
  },
  {
   "cell_type": "code",
   "execution_count": 37,
   "metadata": {},
   "outputs": [],
   "source": [
    "# Prediction for challenge partitions\n",
    "y_ch_p = result.predict(X_ch)\n",
    "save_predictions(y_ch_p, n_preds=500)"
   ]
  },
  {
   "cell_type": "markdown",
   "metadata": {},
   "source": [
    "El penalty utilizado es l2, por lo que no se lleva a cabo ninguna feature selection. En las celdas la hermos realizado aparte para ver si se aumenta la accuracy."
   ]
  },
  {
   "cell_type": "markdown",
   "metadata": {},
   "source": [
    "* Logistic regression con Feature Selection"
   ]
  },
  {
   "cell_type": "code",
   "execution_count": 38,
   "metadata": {
    "scrolled": false
   },
   "outputs": [
    {
     "name": "stderr",
     "output_type": "stream",
     "text": [
      "[Parallel(n_jobs=-1)]: Using backend LokyBackend with 12 concurrent workers.\n"
     ]
    },
    {
     "name": "stdout",
     "output_type": "stream",
     "text": [
      "Fitting 10 folds for each of 288 candidates, totalling 2880 fits\n"
     ]
    },
    {
     "name": "stderr",
     "output_type": "stream",
     "text": [
      "[Parallel(n_jobs=-1)]: Done  17 tasks      | elapsed:    1.6s\n",
      "[Parallel(n_jobs=-1)]: Done 360 tasks      | elapsed:    2.4s\n",
      "[Parallel(n_jobs=-1)]: Done 2735 tasks      | elapsed:    7.5s\n"
     ]
    },
    {
     "name": "stdout",
     "output_type": "stream",
     "text": [
      "                 Acc  Bal. Acc\n",
      "     Train      0.88      0.85\n",
      "      Test      0.87      0.83\n",
      "nan\n",
      "{'log_reg__C': 0.5, 'log_reg__class_weight': {1: 0.5, 2: 2, 3: 3}, 'log_reg__penalty': 'l2', 'log_reg__solver': 'lbfgs'}\n"
     ]
    },
    {
     "name": "stderr",
     "output_type": "stream",
     "text": [
      "[Parallel(n_jobs=-1)]: Done 2857 out of 2880 | elapsed:    7.8s remaining:    0.0s\n",
      "[Parallel(n_jobs=-1)]: Done 2880 out of 2880 | elapsed:    7.8s finished\n"
     ]
    }
   ],
   "source": [
    "\n",
    "# Choosen the values for the penalty (hyperparameter)\n",
    "\n",
    "pipeline = Pipeline([('scaler',StandardScaler()),('f_classif',SelectKBest(f_classif, k=10)),('log_reg', LogisticRegression())])\n",
    "\n",
    "\n",
    "param_grid= {\n",
    "    'log_reg__penalty':['l1', 'l2', 'elasticnet', 'none'],\n",
    "   # 'dual'=False,\n",
    "   # 'tol'=0.0001,\n",
    "    'log_reg__C':[0.5, 1.0, 2.0],\n",
    "   # 'fit_intercept'=True,\n",
    "   # 'intercept_scaling'=1,\n",
    "    'log_reg__class_weight':({1:1, 2:1.3, 3:2}, {1:1, 2:1.5, 3:2.5}, {1:0.5, 2:2, 3:3}, {1:0.5, 2:1.5, 3:4}),\n",
    "   # 'random_state'=None,\n",
    "    'log_reg__solver':['lbfgs', 'newton-cg', 'lbfgs', 'liblinear', 'sag', 'saga'],\n",
    "   # 'max_iter': [400, 300]\n",
    "   # 'multi_class'='auto',\n",
    "   # 'verbose'=0,\n",
    "   # 'warm_start'=False,\n",
    "   # 'n_jobs'=None,\n",
    "    #'l1_ratio'=None,\n",
    "}\n",
    "model = LogisticRegression()\n",
    "\n",
    "skfold = RepeatedStratifiedKFold(n_splits=10, n_repeats=1, random_state=0) # evaluating the performance for each value of the hyperparameters\n",
    "gridcv_gbm = GridSearchCV(pipeline, param_grid=param_grid, cv=skfold, n_jobs=-1, \\\n",
    "    scoring=make_scorer(balanced_accuracy_score), verbose=2)\n",
    "result=gridcv_gbm.fit(X_tr, y_tr)\n",
    "\n",
    "accuracies = gridcv_gbm.cv_results_['mean_test_score']\n",
    "\n",
    "evaluate_model(gridcv_gbm, X_tr, y_tr, X_te, y_te, print_table=True )\n",
    "print(np.mean(accuracies))\n",
    "print(result.best_params_)"
   ]
  },
  {
   "cell_type": "code",
   "execution_count": 25,
   "metadata": {},
   "outputs": [],
   "source": [
    "# Prediction for challenge partitions\n",
    "y_ch_p = result.predict(X_ch)\n",
    "save_predictions(y_ch_p, n_preds=500)"
   ]
  },
  {
   "cell_type": "markdown",
   "metadata": {},
   "source": [
    "Al realizar la feature selection la balanced accuracy ha aumentado, sugiriéndonos que al eliminar estas features hemos eliminado ruido.\n",
    "\n",
    "Es destacable que la class weight elegida da un valor mucho más alto a la tercera feature que a la primera.  En cuanto al valor de C, valores bajos aumentan la rigidez del modelo. Esto influye en que la Balance Accuracy del train dataset se aleje del 1.00.  \n",
    "\n"
   ]
  },
  {
   "cell_type": "markdown",
   "metadata": {},
   "source": [
    "## Experiment 4: Support Vector Classifier"
   ]
  },
  {
   "cell_type": "markdown",
   "metadata": {},
   "source": [
    "* SVC sin feature selection"
   ]
  },
  {
   "cell_type": "code",
   "execution_count": 31,
   "metadata": {
    "scrolled": false
   },
   "outputs": [
    {
     "name": "stdout",
     "output_type": "stream",
     "text": [
      "Fitting 5 folds for each of 1344 candidates, totalling 6720 fits\n"
     ]
    },
    {
     "name": "stderr",
     "output_type": "stream",
     "text": [
      "[Parallel(n_jobs=-1)]: Using backend LokyBackend with 12 concurrent workers.\n",
      "[Parallel(n_jobs=-1)]: Done  28 tasks      | elapsed:    0.0s\n",
      "[Parallel(n_jobs=-1)]: Done 1640 tasks      | elapsed:    3.9s\n",
      "[Parallel(n_jobs=-1)]: Done 5640 tasks      | elapsed:   13.6s\n"
     ]
    },
    {
     "name": "stdout",
     "output_type": "stream",
     "text": [
      "0.7001363662956057\n",
      "                 Acc  Bal. Acc\n",
      "     Train      0.90      0.89\n",
      "      Test      0.88      0.86\n",
      "{'SVC__C': 2.0, 'SVC__class_weight': {1: 0.5, 2: 2, 3: 3}, 'SVC__decision_function_shape': 'ovo', 'SVC__gamma': 0.01, 'SVC__kernel': 'rbf'}\n"
     ]
    },
    {
     "name": "stderr",
     "output_type": "stream",
     "text": [
      "[Parallel(n_jobs=-1)]: Done 6720 out of 6720 | elapsed:   16.3s finished\n"
     ]
    }
   ],
   "source": [
    "from sklearn.svm import SVC\n",
    "\n",
    "pipeline = Pipeline([('scaler',StandardScaler()),('SVC',SVC())])\n",
    "parameter_space_SVC = {\n",
    "    'SVC__C':[0.5, 0.7, 1.0, 2.0, 3.0, 4.0, 5.0],\n",
    "    'SVC__kernel':['linear', 'poly', 'rbf', 'sigmoid'],\n",
    "    #'degree'=3,\n",
    "    'SVC__gamma':[0.001, 0.01, 0.05, 0.1, 0.5, 1],\n",
    "    #'coef0'=0.0,\n",
    "    #'shrinking'=True,\n",
    "    #'probability'=False,\n",
    "    #'tol'=0.001,\n",
    "    #'cache_size'=200,\n",
    "    'SVC__class_weight':({1:1, 2:1.3, 3:2}, {1:1, 2:1.5, 3:2.5}, {1:0.5, 2:2, 3:3}, {1:0.5, 2:1.5, 3:4}),\n",
    "    #'verbose'=False,\n",
    "    #'max_iter'=-1,\n",
    "    'SVC__decision_function_shape': ['ovo', 'ovr'],\n",
    "    #'break_ties': [True, False]\n",
    "    #'random_state'=None,\n",
    "}\n",
    "\n",
    "\n",
    "skfold = RepeatedStratifiedKFold(n_splits=5, n_repeats=1, random_state=0) # evaluating the performance for each value of the hyperparameters\n",
    "gridcv_gbm = GridSearchCV(pipeline, parameter_space_SVC, cv=skfold, n_jobs=-1, \\\n",
    "    scoring=make_scorer(balanced_accuracy_score), verbose=1)\n",
    "result = gridcv_gbm.fit(X_tr, y_tr)\n",
    "\n",
    "accuracies = gridcv_gbm.cv_results_['mean_test_score']\n",
    "print(np.mean(accuracies))\n",
    "evaluate_model(gridcv_gbm, X_tr, y_tr, X_te, y_te, print_table=True )\n",
    "print(gridcv_gbm.best_params_)"
   ]
  },
  {
   "cell_type": "markdown",
   "metadata": {},
   "source": [
    "* SVC con F_classif feature selection"
   ]
  },
  {
   "cell_type": "code",
   "execution_count": 32,
   "metadata": {},
   "outputs": [
    {
     "name": "stdout",
     "output_type": "stream",
     "text": [
      "Fitting 5 folds for each of 1344 candidates, totalling 6720 fits\n"
     ]
    },
    {
     "name": "stderr",
     "output_type": "stream",
     "text": [
      "[Parallel(n_jobs=-1)]: Using backend LokyBackend with 12 concurrent workers.\n",
      "[Parallel(n_jobs=-1)]: Done  28 tasks      | elapsed:    0.0s\n",
      "[Parallel(n_jobs=-1)]: Done 1640 tasks      | elapsed:    3.3s\n",
      "[Parallel(n_jobs=-1)]: Done 5640 tasks      | elapsed:   13.5s\n"
     ]
    },
    {
     "name": "stdout",
     "output_type": "stream",
     "text": [
      "0.7244959147132511\n",
      "                 Acc  Bal. Acc\n",
      "     Train      0.92      0.94\n",
      "      Test      0.89      0.86\n",
      "{'SVC__C': 3.0, 'SVC__class_weight': {1: 0.5, 2: 1.5, 3: 4}, 'SVC__decision_function_shape': 'ovo', 'SVC__gamma': 0.1, 'SVC__kernel': 'rbf'}\n"
     ]
    },
    {
     "name": "stderr",
     "output_type": "stream",
     "text": [
      "[Parallel(n_jobs=-1)]: Done 6720 out of 6720 | elapsed:   17.4s finished\n"
     ]
    }
   ],
   "source": [
    "pipeline = Pipeline([('scaler',StandardScaler()),('f_classif',SelectKBest(f_classif, k=10)),('SVC',SVC())])\n",
    "parameter_space_SVC = {\n",
    "    'SVC__C':[0.5, 0.7, 1.0, 2.0, 3.0, 4.0, 5.0],\n",
    "    'SVC__kernel':['linear', 'poly', 'rbf', 'sigmoid'],\n",
    "    #'degree'=3,\n",
    "    'SVC__gamma':[0.001, 0.01, 0.05, 0.1, 0.5, 1],\n",
    "    #'coef0'=0.0,\n",
    "    #'shrinking'=True,\n",
    "    #'probability'=False,\n",
    "    #'tol'=0.001,\n",
    "    #'cache_size'=200,\n",
    "    'SVC__class_weight':({1:1, 2:1.3, 3:2}, {1:1, 2:1.5, 3:2.5}, {1:0.5, 2:2, 3:3}, {1:0.5, 2:1.5, 3:4}),\n",
    "    #'verbose'=False,\n",
    "    #'max_iter'=-1,\n",
    "    'SVC__decision_function_shape': ['ovo', 'ovr'],\n",
    "    #'break_ties': [True, False]\n",
    "    #'random_state'=None,\n",
    "}\n",
    "\n",
    "\n",
    "skfold = RepeatedStratifiedKFold(n_splits=5, n_repeats=1, random_state=0) # evaluating the performance for each value of the hyperparameters\n",
    "gridcv_gbm = GridSearchCV(pipeline, parameter_space_SVC, cv=skfold, n_jobs=-1, \\\n",
    "    scoring=make_scorer(balanced_accuracy_score), verbose=1)\n",
    "result = gridcv_gbm.fit(X_tr, y_tr)\n",
    "\n",
    "accuracies = gridcv_gbm.cv_results_['mean_test_score']\n",
    "print(np.mean(accuracies))\n",
    "evaluate_model(gridcv_gbm, X_tr, y_tr, X_te, y_te, print_table=True )\n",
    "print(gridcv_gbm.best_params_)"
   ]
  },
  {
   "cell_type": "code",
   "execution_count": 34,
   "metadata": {},
   "outputs": [],
   "source": [
    "# Prediction for challenge partitions\n",
    "y_ch_p = result.predict(X_ch)\n",
    "save_predictions(y_ch_p, n_preds=500)"
   ]
  },
  {
   "cell_type": "markdown",
   "metadata": {},
   "source": [
    "Este modelo trabaja con un l2 penalty por lo que puede tener sentido hacer feature selection.  \n",
    "\n",
    "El valor de C elegido es más alto que en los anteriores, lo que puede explicar que aumente la diferencia de las balanced accuracy entre train y test. El modelo se comporta considerablemente mejor con los datos de entrenamiento ya que los \"memoriza\" en cierta medida  y luego no se comporta tan bien con los datos de testing como vemos en los resultados. \n",
    "\n",
    "En este caso la class weight elegida, da mucho más peso a la clase 3 que la anterior lo que puede explicar también el aumento de la accuracy.  \n",
    "\n",
    "El alto valor de gamma hace que para que haya una agrupación los valores tengan que estar próximos. Esto puede aumentar el overfiting. "
   ]
  },
  {
   "cell_type": "markdown",
   "metadata": {},
   "source": [
    "* SVC linear sin feature selection"
   ]
  },
  {
   "cell_type": "code",
   "execution_count": 35,
   "metadata": {
    "scrolled": true
   },
   "outputs": [
    {
     "name": "stdout",
     "output_type": "stream",
     "text": [
      "Fitting 10 folds for each of 1120 candidates, totalling 11200 fits\n"
     ]
    },
    {
     "name": "stderr",
     "output_type": "stream",
     "text": [
      "[Parallel(n_jobs=-1)]: Using backend LokyBackend with 12 concurrent workers.\n",
      "[Parallel(n_jobs=-1)]: Done  28 tasks      | elapsed:    0.0s\n",
      "[Parallel(n_jobs=-1)]: Done 1544 tasks      | elapsed:    4.8s\n",
      "[Parallel(n_jobs=-1)]: Done 5544 tasks      | elapsed:   17.6s\n",
      "[Parallel(n_jobs=-1)]: Done 10934 tasks      | elapsed:   34.5s\n"
     ]
    },
    {
     "name": "stdout",
     "output_type": "stream",
     "text": [
      "nan\n",
      "                 Acc  Bal. Acc\n",
      "     Train      0.90      0.84\n",
      "      Test      0.89      0.80\n",
      "{'LSVC__C': 1.0, 'LSVC__class_weight': {1: 0.5, 2: 2, 3: 3}, 'LSVC__intercept_scaling': 1.0, 'LSVC__penalty': 'l2', 'LSVC__tol': 0.0001}\n"
     ]
    },
    {
     "name": "stderr",
     "output_type": "stream",
     "text": [
      "[Parallel(n_jobs=-1)]: Done 11177 out of 11200 | elapsed:   35.2s remaining:    0.0s\n",
      "[Parallel(n_jobs=-1)]: Done 11200 out of 11200 | elapsed:   35.3s finished\n"
     ]
    }
   ],
   "source": [
    "from sklearn.svm import LinearSVC\n",
    "\n",
    "pipeline = Pipeline([('scaler',StandardScaler()),('LSVC',LinearSVC())])\n",
    "\n",
    "parameter_space_SVC = {\n",
    "    'LSVC__C':[0.5, 0.7, 1.0, 2.0, 3.0, 4.0, 5.0],\n",
    "    'LSVC__penalty':['l1','l2'],\n",
    "    'LSVC__class_weight':({1:1, 2:1.3, 3:2}, {1:1, 2:1.5, 3:2.5}, {1:0.5, 2:2, 3:3}, {1:0.5, 2:1.5, 3:4}),\n",
    "    'LSVC__intercept_scaling':[0.5, 1.0, 5.0, 7.0, 10],\n",
    "    'LSVC__tol': [1e-6, 1e-5, 1e-4, 1e-3]\n",
    "}\n",
    "\n",
    "\n",
    "skfold = RepeatedStratifiedKFold(n_splits=10, n_repeats=1, random_state=0) # evaluating the performance for each value of the hyperparameters\n",
    "gridcv_gbm = GridSearchCV(pipeline, parameter_space_SVC, cv=skfold, n_jobs=-1, \\\n",
    "    scoring=make_scorer(balanced_accuracy_score), verbose=1)\n",
    "result = gridcv_gbm.fit(X_tr, y_tr)\n",
    "\n",
    "accuracies = gridcv_gbm.cv_results_['mean_test_score']\n",
    "print(np.mean(accuracies))\n",
    "evaluate_model(gridcv_gbm, X_tr, y_tr, X_te, y_te, print_table=True )\n",
    "print(gridcv_gbm.best_params_)"
   ]
  },
  {
   "cell_type": "markdown",
   "metadata": {},
   "source": [
    "* SVC linear utilizando ANOVA para realizar feature selection"
   ]
  },
  {
   "cell_type": "code",
   "execution_count": 37,
   "metadata": {},
   "outputs": [
    {
     "name": "stdout",
     "output_type": "stream",
     "text": [
      "Fitting 10 folds for each of 1120 candidates, totalling 11200 fits\n"
     ]
    },
    {
     "name": "stderr",
     "output_type": "stream",
     "text": [
      "[Parallel(n_jobs=-1)]: Using backend LokyBackend with 12 concurrent workers.\n",
      "[Parallel(n_jobs=-1)]: Done  28 tasks      | elapsed:    0.0s\n",
      "[Parallel(n_jobs=-1)]: Done 1640 tasks      | elapsed:    3.2s\n",
      "[Parallel(n_jobs=-1)]: Done 5640 tasks      | elapsed:   12.1s\n",
      "[Parallel(n_jobs=-1)]: Done 11000 tasks      | elapsed:   24.5s\n"
     ]
    },
    {
     "name": "stdout",
     "output_type": "stream",
     "text": [
      "nan\n",
      "                 Acc  Bal. Acc\n",
      "     Train      0.89      0.83\n",
      "      Test      0.88      0.81\n",
      "{'LSVC__C': 1.0, 'LSVC__class_weight': {1: 0.5, 2: 2, 3: 3}, 'LSVC__intercept_scaling': 10, 'LSVC__penalty': 'l2', 'LSVC__tol': 1e-06}\n"
     ]
    },
    {
     "name": "stderr",
     "output_type": "stream",
     "text": [
      "[Parallel(n_jobs=-1)]: Done 11200 out of 11200 | elapsed:   24.9s finished\n"
     ]
    }
   ],
   "source": [
    "from sklearn.svm import LinearSVC\n",
    "\n",
    "pipeline = Pipeline([('scaler',StandardScaler()),('f_classif',SelectKBest(f_classif, k=10)),('LSVC',LinearSVC())])\n",
    "\n",
    "parameter_space_SVC = {\n",
    "    'LSVC__C':[0.5, 0.7, 1.0, 2.0, 3.0, 4.0, 5.0],\n",
    "    'LSVC__penalty':['l1','l2'],\n",
    "    'LSVC__class_weight':({1:1, 2:1.3, 3:2}, {1:1, 2:1.5, 3:2.5}, {1:0.5, 2:2, 3:3}, {1:0.5, 2:1.5, 3:4}),\n",
    "    'LSVC__intercept_scaling':[0.5, 1.0, 5.0, 7.0, 10],\n",
    "    'LSVC__tol': [1e-6, 1e-5, 1e-4, 1e-3]\n",
    "}\n",
    "\n",
    "\n",
    "skfold = RepeatedStratifiedKFold(n_splits=10, n_repeats=1, random_state=0) # evaluating the performance for each value of the hyperparameters\n",
    "gridcv_gbm = GridSearchCV(pipeline, parameter_space_SVC, cv=skfold, n_jobs=-1, \\\n",
    "    scoring=make_scorer(balanced_accuracy_score), verbose=1)\n",
    "result = gridcv_gbm.fit(X_tr, y_tr)\n",
    "\n",
    "accuracies = gridcv_gbm.cv_results_['mean_test_score']\n",
    "print(np.mean(accuracies))\n",
    "evaluate_model(gridcv_gbm, X_tr, y_tr, X_te, y_te, print_table=True )\n",
    "print(gridcv_gbm.best_params_)"
   ]
  },
  {
   "cell_type": "markdown",
   "metadata": {},
   "source": [
    "Aunque disminuimos el overfiting bastante la balanced accuracy nos da más baja, esto puede ser porque el hiperparámetro kernel = linear ( que viene incluído por defecto en este modelo ) no es el más adecuado. Probablemente esto tenga que ver con que el tamaño de nuestro dataset no es muy amplio. "
   ]
  },
  {
   "cell_type": "markdown",
   "metadata": {},
   "source": [
    "## Experiment 5: Artificial Neural Networks"
   ]
  },
  {
   "cell_type": "code",
   "execution_count": 12,
   "metadata": {},
   "outputs": [],
   "source": [
    "from sklearn.datasets import make_moons\n",
    "from sklearn.linear_model import Perceptron\n",
    "from sklearn.neural_network import MLPClassifier"
   ]
  },
  {
   "cell_type": "markdown",
   "metadata": {},
   "source": [
    "* Entrenamos el modelo MLP con unos hiperparametros elegidos, y relizamos el escalado y filtrado por f_clasiff manualmente y no en una pipeline"
   ]
  },
  {
   "cell_type": "code",
   "execution_count": 28,
   "metadata": {},
   "outputs": [
    {
     "name": "stdout",
     "output_type": "stream",
     "text": [
      "                 Acc  Bal. Acc\n",
      "     Train      0.98      0.97\n",
      "      Test      0.92      0.86\n"
     ]
    },
    {
     "data": {
      "text/plain": [
       "[[0.9795737122557726, 0.9728622968682555], [0.922, 0.8565567627765884]]"
      ]
     },
     "execution_count": 28,
     "metadata": {},
     "output_type": "execute_result"
    }
   ],
   "source": [
    "# Data standarization\n",
    "scaler = preprocessing.StandardScaler().fit(X_tr)\n",
    "X_train_scaled = scaler.transform(X_tr)\n",
    "X_test_scaled = scaler.transform(X_te)\n",
    "X_ch_scaled = scaler.transform(X_ch)\n",
    "\n",
    "# We create a filter to select the required number of features\n",
    "# The filter will be based on the F-statistc \"f_classif\".\n",
    "\n",
    "filtering = SelectKBest(f_classif, k=10)\n",
    "filtering.fit(X_train_scaled, y_tr)\n",
    "\n",
    "# Carrying out the feature selection \n",
    "X_train_sel = filtering.transform(X_train_scaled)\n",
    "X_test_sel = filtering.transform(X_test_scaled)\n",
    "X_ch_sel = filtering.transform(X_ch_scaled)\n",
    "\n",
    "#Fit MLPC model \n",
    "MLPC = MLPClassifier(activation='relu', alpha=0.0001, hidden_layer_sizes=(50, 50, 50), learning_rate='constant', solver='adam')\n",
    "MLPC.fit(X_train_sel, y_tr)\n",
    "y_pred = MLPC.predict(X_test_sel)\n",
    "\n",
    "\n",
    "evaluate_model(MLPC, X_train_sel, y_tr, X_test_sel, y_te, print_table=True)"
   ]
  },
  {
   "cell_type": "markdown",
   "metadata": {},
   "source": [
    "* MLPClasiffier , sin hacer feature selection con ANOVA"
   ]
  },
  {
   "cell_type": "code",
   "execution_count": 18,
   "metadata": {},
   "outputs": [
    {
     "name": "stdout",
     "output_type": "stream",
     "text": [
      "Fitting 10 folds for each of 48 candidates, totalling 480 fits\n"
     ]
    },
    {
     "name": "stderr",
     "output_type": "stream",
     "text": [
      "[Parallel(n_jobs=1)]: Using backend SequentialBackend with 1 concurrent workers.\n",
      "[Parallel(n_jobs=1)]: Done 480 out of 480 | elapsed:  9.1min finished\n"
     ]
    },
    {
     "name": "stdout",
     "output_type": "stream",
     "text": [
      "                 Acc  Bal. Acc\n",
      "     Train      0.99      0.99\n",
      "      Test      0.92      0.81\n",
      "0.9040555533607249\n",
      "{'MLPC__activation': 'tanh', 'MLPC__alpha': 0.05, 'MLPC__hidden_layer_sizes': (50, 50, 50), 'MLPC__learning_rate': 'constant', 'MLPC__solver': 'adam'}\n"
     ]
    }
   ],
   "source": [
    "\n",
    "pipeline = Pipeline([('scaler',StandardScaler()), ('MLPC', MLPClassifier() )])\n",
    "\n",
    "model = MLPClassifier()\n",
    "\n",
    "parameter_space = {\n",
    "    'MLPC__hidden_layer_sizes': [(50,50,50), (50,100,50), (100,)],\n",
    "    'MLPC__activation': ['tanh', 'relu'],\n",
    "    'MLPC__solver': ['sgd', 'adam'],\n",
    "    'MLPC__alpha': [0.0001, 0.05],\n",
    "    'MLPC__learning_rate': ['constant','adaptive'],\n",
    "}\n",
    "\n",
    "skfold = RepeatedStratifiedKFold(n_splits=10, n_repeats=1, random_state=0) # evaluating the performance for each value of the hyperparameters\n",
    "gridcv = GridSearchCV(pipeline, parameter_space, cv=skfold, n_jobs=1, \\\n",
    "    scoring=make_scorer(accuracy_score),verbose=1)\n",
    "result = gridcv.fit(X_tr, y_tr)\n",
    "accuracies = gridcv.cv_results_['mean_test_score']\n",
    "\n",
    "evaluate_model(result, X_tr, y_tr, X_te, y_te, print_table=True )\n",
    "print(np.mean(accuracies))\n",
    "print(result.best_params_)"
   ]
  },
  {
   "cell_type": "markdown",
   "metadata": {},
   "source": [
    "* MLPClasiffier , con un filtro para Feature Selection con F_classif"
   ]
  },
  {
   "cell_type": "code",
   "execution_count": 19,
   "metadata": {
    "scrolled": true
   },
   "outputs": [
    {
     "name": "stdout",
     "output_type": "stream",
     "text": [
      "Fitting 10 folds for each of 48 candidates, totalling 480 fits\n"
     ]
    },
    {
     "name": "stderr",
     "output_type": "stream",
     "text": [
      "[Parallel(n_jobs=1)]: Using backend SequentialBackend with 1 concurrent workers.\n",
      "[Parallel(n_jobs=1)]: Done 480 out of 480 | elapsed:  8.5min finished\n"
     ]
    },
    {
     "name": "stdout",
     "output_type": "stream",
     "text": [
      "                 Acc  Bal. Acc\n",
      "     Train      0.98      0.98\n",
      "      Test      0.94      0.88\n",
      "0.9014629095554151\n",
      "{'MLPC__activation': 'relu', 'MLPC__alpha': 0.05, 'MLPC__hidden_layer_sizes': (50, 50, 50), 'MLPC__learning_rate': 'constant', 'MLPC__solver': 'adam'}\n"
     ]
    }
   ],
   "source": [
    "\n",
    "pipeline = Pipeline([('scaler',StandardScaler()),('f_classif',SelectKBest(f_classif, k=10)), ('MLPC', MLPClassifier() )])\n",
    "\n",
    "model = MLPClassifier()\n",
    "\n",
    "parameter_space = {\n",
    "    'MLPC__hidden_layer_sizes': [(50,50,50), (50,100,50), (100,)],\n",
    "    'MLPC__activation': ['tanh', 'relu'],\n",
    "    'MLPC__solver': ['sgd', 'adam'],\n",
    "    'MLPC__alpha': [0.0001, 0.05],\n",
    "    'MLPC__learning_rate': ['constant','adaptive'],\n",
    "}\n",
    "\n",
    "skfold = RepeatedStratifiedKFold(n_splits=10, n_repeats=1, random_state=0) # evaluating the performance for each value of the hyperparameters\n",
    "gridcv = GridSearchCV(pipeline, parameter_space, cv=skfold, n_jobs=1, \\\n",
    "    scoring=make_scorer(accuracy_score),verbose=1)\n",
    "result = gridcv.fit(X_tr, y_tr)\n",
    "accuracies = gridcv.cv_results_['mean_test_score']\n",
    "\n",
    "evaluate_model(result, X_tr, y_tr, X_te, y_te, print_table=True )\n",
    "print(np.mean(accuracies))\n",
    "print(result.best_params_)"
   ]
  },
  {
   "cell_type": "code",
   "execution_count": 21,
   "metadata": {},
   "outputs": [],
   "source": [
    "# Prediction for challenge partitions\n",
    "y_ch_p = result.predict(X_ch)\n",
    "save_predictions(y_ch_p, n_preds=500)"
   ]
  },
  {
   "cell_type": "markdown",
   "metadata": {},
   "source": [
    "Claramente la feature selection empleada disminuye mucho el ruido y mejora la accuracy del modelo.  \n",
    "\n",
    "Podemos ver que hay cierto overfiting al tener un 10% de diferencia entre el balanced accurracy del training set y el del test set.  \n",
    "A pesar de no ser una red neuronal muy compleja y que de entre los hiperparámetros posibles en las hidden layers\n",
    "el mejor devuelto es aquel con una menor cantidad de neuronas, podriamos intentar reducir el numero de neuronas y ver el resultado para ver si el overfiting disminuye o aumentar el número de capas.  \n",
    "\n",
    "Se pueden aplicar como solución al overfitting estrategias como el dropout (eliminacion aleatoria de neuronas del modelo)\n",
    "y regularizacion ridge por ejemplo."
   ]
  },
  {
   "cell_type": "markdown",
   "metadata": {},
   "source": [
    "* MLP con Feature Selection en el que no se uso pipeline en el que usamos un paramgrid algo diferente a los anteriores"
   ]
  },
  {
   "cell_type": "code",
   "execution_count": 22,
   "metadata": {
    "scrolled": true
   },
   "outputs": [
    {
     "name": "stdout",
     "output_type": "stream",
     "text": [
      "Fitting 10 folds for each of 1620 candidates, totalling 16200 fits\n"
     ]
    },
    {
     "name": "stderr",
     "output_type": "stream",
     "text": [
      "[Parallel(n_jobs=-1)]: Using backend LokyBackend with 12 concurrent workers.\n",
      "[Parallel(n_jobs=-1)]: Done  17 tasks      | elapsed:    2.6s\n",
      "[Parallel(n_jobs=-1)]: Done 138 tasks      | elapsed:    8.8s\n",
      "[Parallel(n_jobs=-1)]: Done 341 tasks      | elapsed:   21.7s\n",
      "[Parallel(n_jobs=-1)]: Done 624 tasks      | elapsed:   41.0s\n",
      "[Parallel(n_jobs=-1)]: Done 989 tasks      | elapsed:   57.8s\n",
      "[Parallel(n_jobs=-1)]: Done 1434 tasks      | elapsed:  1.5min\n",
      "[Parallel(n_jobs=-1)]: Done 1961 tasks      | elapsed:  1.9min\n",
      "[Parallel(n_jobs=-1)]: Done 2568 tasks      | elapsed:  2.5min\n",
      "[Parallel(n_jobs=-1)]: Done 3257 tasks      | elapsed:  3.2min\n",
      "[Parallel(n_jobs=-1)]: Done 4026 tasks      | elapsed:  4.1min\n",
      "[Parallel(n_jobs=-1)]: Done 4877 tasks      | elapsed:  5.8min\n",
      "[Parallel(n_jobs=-1)]: Done 5808 tasks      | elapsed:  7.6min\n",
      "[Parallel(n_jobs=-1)]: Done 6821 tasks      | elapsed:  9.7min\n",
      "[Parallel(n_jobs=-1)]: Done 7914 tasks      | elapsed: 12.0min\n",
      "[Parallel(n_jobs=-1)]: Done 9089 tasks      | elapsed: 14.4min\n",
      "[Parallel(n_jobs=-1)]: Done 10344 tasks      | elapsed: 17.3min\n",
      "[Parallel(n_jobs=-1)]: Done 11681 tasks      | elapsed: 20.4min\n",
      "[Parallel(n_jobs=-1)]: Done 13098 tasks      | elapsed: 23.9min\n",
      "[Parallel(n_jobs=-1)]: Done 14597 tasks      | elapsed: 27.7min\n",
      "[Parallel(n_jobs=-1)]: Done 16176 tasks      | elapsed: 32.0min\n",
      "[Parallel(n_jobs=-1)]: Done 16200 out of 16200 | elapsed: 32.1min finished\n"
     ]
    },
    {
     "name": "stdout",
     "output_type": "stream",
     "text": [
      "0.7420713480591353\n",
      "                 Acc  Bal. Acc\n",
      "     Train      0.99      0.98\n",
      "      Test      0.93      0.84\n",
      "{'activation': 'relu', 'alpha': 0.01, 'hidden_layer_sizes': (100,), 'learning_rate': 'invscaling', 'max_iter': 100, 'solver': 'lbfgs'}\n"
     ]
    }
   ],
   "source": [
    "scaler = preprocessing.StandardScaler().fit(X_tr)\n",
    "X_train_scaled = scaler.transform(X_tr)\n",
    "X_test_scaled = scaler.transform(X_te)\n",
    "\n",
    "X_ch_scaled = scaler.transform(X_ch)\n",
    "\n",
    "# We create a filter to select the required number of features\n",
    "# The filter will be based on the F-statistc \"f_classif\".\n",
    "\n",
    "filtering = SelectKBest(f_classif, k = 10)\n",
    "filtering.fit(X_train_scaled, y_tr)\n",
    "\n",
    "# Carrying out the feature selection \n",
    "X_train_sel = filtering.transform(X_train_scaled)\n",
    "X_test_sel = filtering.transform(X_test_scaled)\n",
    "\n",
    "X_ch_sel = filtering.transform(X_ch_scaled)\n",
    "\n",
    "# choosen the values for the hyperparameter \n",
    "\n",
    "model = MLPClassifier()\n",
    "\n",
    "parameter_space_MLPC = {\n",
    "    'hidden_layer_sizes': [(50,50,50), (50,100,50), (100,)],\n",
    "    'activation': ['identity', 'logistic', 'tanh', 'relu'],\n",
    "    'solver': ['lbfgs', 'sgd', 'adam'],\n",
    "    'alpha': [1e-5, 1e-4, 1e-3, 1e-2, 1e-1],\n",
    "    'learning_rate': ['constant', 'invscaling', 'adaptive'],\n",
    "    'max_iter':[100, 200, 300]\n",
    "}\n",
    "\n",
    "skfold = RepeatedStratifiedKFold(n_splits=10, n_repeats=1, random_state=0) # evaluating the performance for each value of the hyperparameters\n",
    "gridcv_gbm = GridSearchCV(model, parameter_space_MLPC, cv=skfold, n_jobs=-1, \\\n",
    "    scoring=make_scorer(balanced_accuracy_score), verbose=2)\n",
    "result = gridcv_gbm.fit(X_train_sel, y_tr)\n",
    "\n",
    "accuracies = gridcv_gbm.cv_results_['mean_test_score']\n",
    "\n",
    "print(np.mean(accuracies))\n",
    "evaluate_model(gridcv_gbm, X_train_sel, y_tr, X_test_sel, y_te, print_table=True )\n",
    "print(result.best_params_)"
   ]
  },
  {
   "cell_type": "markdown",
   "metadata": {},
   "source": [
    "## Experiment 6: Random Forest Classifier"
   ]
  },
  {
   "cell_type": "markdown",
   "metadata": {},
   "source": [
    "* Clasificador random forest sin feature selection"
   ]
  },
  {
   "cell_type": "code",
   "execution_count": 24,
   "metadata": {},
   "outputs": [
    {
     "name": "stdout",
     "output_type": "stream",
     "text": [
      "Fitting 5 folds for each of 1296 candidates, totalling 6480 fits\n"
     ]
    },
    {
     "name": "stderr",
     "output_type": "stream",
     "text": [
      "[Parallel(n_jobs=-1)]: Using backend LokyBackend with 12 concurrent workers.\n",
      "[Parallel(n_jobs=-1)]: Done  26 tasks      | elapsed:    0.9s\n",
      "[Parallel(n_jobs=-1)]: Done 176 tasks      | elapsed:    4.4s\n",
      "[Parallel(n_jobs=-1)]: Done 426 tasks      | elapsed:   10.5s\n",
      "[Parallel(n_jobs=-1)]: Done 776 tasks      | elapsed:   18.8s\n",
      "[Parallel(n_jobs=-1)]: Done 1226 tasks      | elapsed:   29.8s\n",
      "[Parallel(n_jobs=-1)]: Done 1776 tasks      | elapsed:   43.2s\n",
      "[Parallel(n_jobs=-1)]: Done 2426 tasks      | elapsed:   59.0s\n",
      "[Parallel(n_jobs=-1)]: Done 3176 tasks      | elapsed:  1.3min\n",
      "[Parallel(n_jobs=-1)]: Done 4026 tasks      | elapsed:  1.6min\n",
      "[Parallel(n_jobs=-1)]: Done 4976 tasks      | elapsed:  2.0min\n",
      "[Parallel(n_jobs=-1)]: Done 6026 tasks      | elapsed:  2.4min\n",
      "[Parallel(n_jobs=-1)]: Done 6480 out of 6480 | elapsed:  2.6min finished\n"
     ]
    },
    {
     "name": "stdout",
     "output_type": "stream",
     "text": [
      "0.8221861837138951\n",
      "                 Acc  Bal. Acc\n",
      "     Train      0.99      0.98\n",
      "      Test      0.94      0.86\n",
      "{'RF__ccp_alpha': 0.0005, 'RF__class_weight': {1: 1, 2: 1.5, 3: 2.5}, 'RF__max_depth': 10, 'RF__max_samples': None, 'RF__min_samples_leaf': 2, 'RF__min_samples_split': 5, 'RF__n_estimators': 120}\n"
     ]
    }
   ],
   "source": [
    "pipeline = Pipeline([('scaler',StandardScaler()), ('RF', RandomForestClassifier() )])\n",
    "\n",
    "parameter_space_rf = {\n",
    "    'RF__n_estimators':[120, 150],\n",
    "    'RF__max_depth':[None, 9, 10, 12],\n",
    "    'RF__min_samples_split':[3, 4, 5],\n",
    "    'RF__min_samples_leaf':[2,3,4], \n",
    "#     min_weight_fraction_leaf=0.0,\n",
    "#     max_features='auto',\n",
    "#     max_leaf_nodes=None,\n",
    "#     min_impurity_decrease=0.0,\n",
    "#     min_impurity_split=None,\n",
    "    'RF__class_weight':({1:1, 2:1.3, 3:2}, {1:1, 2:1.5, 3:2.5}),\n",
    "    'RF__ccp_alpha':(0.005, 0.001, 0.0005),\n",
    "    'RF__max_samples':[None, 0.7, 0.8]\n",
    "}\n",
    "\n",
    "\n",
    "\n",
    "skfold_rf = RepeatedStratifiedKFold(n_splits=5, n_repeats=1, random_state=0) # evaluating the performance for each value of the hyperparameters\n",
    "\n",
    "gridcv_rf = GridSearchCV(pipeline, parameter_space_rf, cv=skfold_rf, n_jobs=-1, \\\n",
    "    scoring=make_scorer(balanced_accuracy_score), verbose=1)\n",
    "\n",
    "result = gridcv_rf.fit(X_tr, y_tr)\n",
    "\n",
    "accuracies = gridcv_rf.cv_results_['mean_test_score']\n",
    "print(np.mean(accuracies))\n",
    "_ = evaluate_model(gridcv_rf, X_tr, y_tr, X_te, y_te, print_table=True )\n",
    "print(gridcv_rf.best_params_)"
   ]
  },
  {
   "cell_type": "markdown",
   "metadata": {},
   "source": [
    "* Clasificador random forest con feature selection ANOVA"
   ]
  },
  {
   "cell_type": "code",
   "execution_count": 28,
   "metadata": {},
   "outputs": [
    {
     "name": "stdout",
     "output_type": "stream",
     "text": [
      "Fitting 5 folds for each of 1296 candidates, totalling 6480 fits\n"
     ]
    },
    {
     "name": "stderr",
     "output_type": "stream",
     "text": [
      "[Parallel(n_jobs=-1)]: Using backend LokyBackend with 12 concurrent workers.\n",
      "[Parallel(n_jobs=-1)]: Done  26 tasks      | elapsed:    2.3s\n",
      "[Parallel(n_jobs=-1)]: Done 176 tasks      | elapsed:    5.7s\n",
      "[Parallel(n_jobs=-1)]: Done 426 tasks      | elapsed:   11.4s\n",
      "[Parallel(n_jobs=-1)]: Done 776 tasks      | elapsed:   19.4s\n",
      "[Parallel(n_jobs=-1)]: Done 1226 tasks      | elapsed:   29.7s\n",
      "[Parallel(n_jobs=-1)]: Done 1776 tasks      | elapsed:   42.1s\n",
      "[Parallel(n_jobs=-1)]: Done 2426 tasks      | elapsed:   57.0s\n",
      "[Parallel(n_jobs=-1)]: Done 3176 tasks      | elapsed:  1.2min\n",
      "[Parallel(n_jobs=-1)]: Done 4026 tasks      | elapsed:  1.6min\n",
      "[Parallel(n_jobs=-1)]: Done 4976 tasks      | elapsed:  1.9min\n",
      "[Parallel(n_jobs=-1)]: Done 6026 tasks      | elapsed:  2.3min\n",
      "[Parallel(n_jobs=-1)]: Done 6480 out of 6480 | elapsed:  2.5min finished\n"
     ]
    },
    {
     "name": "stdout",
     "output_type": "stream",
     "text": [
      "0.8431213991358393\n",
      "                 Acc  Bal. Acc\n",
      "     Train      0.98      0.97\n",
      "      Test      0.94      0.87\n",
      "{'RF__ccp_alpha': 0.001, 'RF__class_weight': {1: 1, 2: 1.5, 3: 2.5}, 'RF__max_depth': 10, 'RF__max_samples': None, 'RF__min_samples_leaf': 2, 'RF__min_samples_split': 3, 'RF__n_estimators': 150}\n"
     ]
    }
   ],
   "source": [
    "pipeline = Pipeline([('scaler',StandardScaler()),('f_classif',SelectKBest(f_classif, k=10)), ('RF', RandomForestClassifier() )])\n",
    "\n",
    "parameter_space_rf = {\n",
    "    'RF__n_estimators':[120, 150],\n",
    "    'RF__max_depth':[None, 9, 10, 12],\n",
    "    'RF__min_samples_split':[3, 4, 5],\n",
    "    'RF__min_samples_leaf':[2,3,4], \n",
    "#     min_weight_fraction_leaf=0.0,\n",
    "#     max_features='auto',\n",
    "#     max_leaf_nodes=None,\n",
    "#     min_impurity_decrease=0.0,\n",
    "#     min_impurity_split=None,\n",
    "    'RF__class_weight':({1:1, 2:1.3, 3:2}, {1:1, 2:1.5, 3:2.5}),\n",
    "    'RF__ccp_alpha':(0.005, 0.001, 0.0005),\n",
    "    'RF__max_samples':[None, 0.7, 0.8]\n",
    "}\n",
    "\n",
    "\n",
    "\n",
    "skfold_rf = RepeatedStratifiedKFold(n_splits=5, n_repeats=1, random_state=0) # evaluating the performance for each value of the hyperparameters\n",
    "\n",
    "gridcv_rf = GridSearchCV(pipeline, parameter_space_rf, cv=skfold_rf, n_jobs=-1, \\\n",
    "    scoring=make_scorer(balanced_accuracy_score), verbose=1)\n",
    "\n",
    "result = gridcv_rf.fit(X_tr, y_tr)\n",
    "\n",
    "accuracies = gridcv_rf.cv_results_['mean_test_score']\n",
    "print(np.mean(accuracies))\n",
    "_ = evaluate_model(gridcv_rf, X_tr, y_tr, X_te, y_te, print_table=True )\n",
    "print(gridcv_rf.best_params_)"
   ]
  },
  {
   "cell_type": "markdown",
   "metadata": {},
   "source": []
  },
  {
   "cell_type": "markdown",
   "metadata": {},
   "source": [
    "## Experiment 7: GBM Classifier"
   ]
  },
  {
   "cell_type": "markdown",
   "metadata": {},
   "source": [
    "* GBM con feature selection F_classif"
   ]
  },
  {
   "cell_type": "code",
   "execution_count": 29,
   "metadata": {},
   "outputs": [
    {
     "name": "stdout",
     "output_type": "stream",
     "text": [
      "Fitting 5 folds for each of 1458 candidates, totalling 7290 fits\n"
     ]
    },
    {
     "name": "stderr",
     "output_type": "stream",
     "text": [
      "[Parallel(n_jobs=-1)]: Using backend LokyBackend with 12 concurrent workers.\n",
      "[Parallel(n_jobs=-1)]: Done  26 tasks      | elapsed:   22.0s\n",
      "[Parallel(n_jobs=-1)]: Done 176 tasks      | elapsed:  2.5min\n",
      "[Parallel(n_jobs=-1)]: Done 426 tasks      | elapsed:  4.8min\n",
      "[Parallel(n_jobs=-1)]: Done 776 tasks      | elapsed:  5.4min\n",
      "[Parallel(n_jobs=-1)]: Done 1226 tasks      | elapsed:  6.4min\n",
      "[Parallel(n_jobs=-1)]: Done 1776 tasks      | elapsed: 11.3min\n",
      "[Parallel(n_jobs=-1)]: Done 2426 tasks      | elapsed: 12.6min\n",
      "[Parallel(n_jobs=-1)]: Done 3176 tasks      | elapsed: 15.0min\n",
      "[Parallel(n_jobs=-1)]: Done 4026 tasks      | elapsed: 17.5min\n",
      "[Parallel(n_jobs=-1)]: Done 4976 tasks      | elapsed: 19.4min\n",
      "[Parallel(n_jobs=-1)]: Done 6026 tasks      | elapsed: 21.9min\n",
      "[Parallel(n_jobs=-1)]: Done 7176 tasks      | elapsed: 24.9min\n",
      "[Parallel(n_jobs=-1)]: Done 7290 out of 7290 | elapsed: 25.1min finished\n"
     ]
    },
    {
     "name": "stdout",
     "output_type": "stream",
     "text": [
      "0.8733819513239154\n",
      "                 Acc  Bal. Acc\n",
      "     Train      1.00      1.00\n",
      "      Test      0.94      0.87\n",
      "{'GBM__ccp_alpha': 0.0, 'GBM__learning_rate': 0.1, 'GBM__max_depth': 4, 'GBM__min_samples_leaf': 3, 'GBM__min_samples_split': 3, 'GBM__n_estimators': 300, 'GBM__subsample': 0.7}\n"
     ]
    }
   ],
   "source": [
    "from sklearn.ensemble import GradientBoostingClassifier\n",
    "\n",
    "pipeline = Pipeline([('scaler',StandardScaler()),('f_classif',SelectKBest(f_classif, k=10)), ('GBM', GradientBoostingClassifier() )])\n",
    "\n",
    "# choosen the values for the hyperparameters \n",
    "\n",
    "parameter_space = {\n",
    "    'GBM__n_estimators':[100, 200, 300],\n",
    "    'GBM__learning_rate':[0.05, 0.1],\n",
    "    'GBM__max_depth':[None, 4, 5],\n",
    "    'GBM__min_samples_split':[2, 3, 4],\n",
    "    'GBM__min_samples_leaf':[1,2,3], \n",
    "#     min_weight_fraction_leaf=0.0,\n",
    "#     max_features='auto',\n",
    "#     max_leaf_nodes=None,\n",
    "#     min_impurity_decrease=0.0,\n",
    "#     min_impurity_split=None,\n",
    "    'GBM__ccp_alpha':(0.0, 0.0001, 0.00005),\n",
    "    'GBM__subsample':(0.9, 0.8, 0.7),\n",
    "}\n",
    "\n",
    "\n",
    "skfold = RepeatedStratifiedKFold(n_splits=5, n_repeats=1, random_state=0) # evaluating the performance for each value of the hyperparameters\n",
    "gridcv_gbm = GridSearchCV(pipeline, parameter_space, cv=skfold, n_jobs=-1, \\\n",
    "    scoring=make_scorer(balanced_accuracy_score), verbose=1)\n",
    "result = gridcv_gbm.fit(X_tr, y_tr)\n",
    "\n",
    "accuracies = gridcv_gbm.cv_results_['mean_test_score']\n",
    "print(np.mean(accuracies))\n",
    "evaluate_model(gridcv_gbm, X_tr, y_tr, X_te, y_te, print_table=True )\n",
    "print(gridcv_gbm.best_params_)"
   ]
  },
  {
   "cell_type": "markdown",
   "metadata": {},
   "source": [
    "* GBM sin feature selection"
   ]
  },
  {
   "cell_type": "code",
   "execution_count": 30,
   "metadata": {},
   "outputs": [
    {
     "name": "stdout",
     "output_type": "stream",
     "text": [
      "Fitting 5 folds for each of 1458 candidates, totalling 7290 fits\n"
     ]
    },
    {
     "name": "stderr",
     "output_type": "stream",
     "text": [
      "[Parallel(n_jobs=-1)]: Using backend LokyBackend with 12 concurrent workers.\n",
      "[Parallel(n_jobs=-1)]: Done  26 tasks      | elapsed:   31.2s\n",
      "[Parallel(n_jobs=-1)]: Done 176 tasks      | elapsed:  3.5min\n",
      "[Parallel(n_jobs=-1)]: Done 426 tasks      | elapsed:  6.9min\n",
      "[Parallel(n_jobs=-1)]: Done 776 tasks      | elapsed:  7.7min\n",
      "[Parallel(n_jobs=-1)]: Done 1226 tasks      | elapsed:  9.2min\n",
      "[Parallel(n_jobs=-1)]: Done 1776 tasks      | elapsed: 16.7min\n",
      "[Parallel(n_jobs=-1)]: Done 2426 tasks      | elapsed: 18.5min\n",
      "[Parallel(n_jobs=-1)]: Done 3176 tasks      | elapsed: 22.7min\n",
      "[Parallel(n_jobs=-1)]: Done 4026 tasks      | elapsed: 27.1min\n",
      "[Parallel(n_jobs=-1)]: Done 4976 tasks      | elapsed: 30.3min\n",
      "[Parallel(n_jobs=-1)]: Done 6026 tasks      | elapsed: 34.7min\n",
      "[Parallel(n_jobs=-1)]: Done 7176 tasks      | elapsed: 40.0min\n",
      "[Parallel(n_jobs=-1)]: Done 7290 out of 7290 | elapsed: 40.4min finished\n"
     ]
    },
    {
     "name": "stdout",
     "output_type": "stream",
     "text": [
      "0.8742461937228856\n",
      "                 Acc  Bal. Acc\n",
      "     Train      1.00      1.00\n",
      "      Test      0.94      0.87\n",
      "{'GBM__ccp_alpha': 0.0001, 'GBM__learning_rate': 0.1, 'GBM__max_depth': 4, 'GBM__min_samples_leaf': 1, 'GBM__min_samples_split': 3, 'GBM__n_estimators': 200, 'GBM__subsample': 0.8}\n"
     ]
    }
   ],
   "source": [
    "from sklearn.ensemble import GradientBoostingClassifier\n",
    "\n",
    "pipeline = Pipeline([('scaler',StandardScaler()), ('GBM', GradientBoostingClassifier() )])\n",
    "\n",
    "# choosen the values for the hyperparameters \n",
    "\n",
    "parameter_space = {\n",
    "    'GBM__n_estimators':[100, 200, 300],\n",
    "    'GBM__learning_rate':[0.05, 0.1],\n",
    "    'GBM__max_depth':[None, 4, 5],\n",
    "    'GBM__min_samples_split':[2, 3, 4],\n",
    "    'GBM__min_samples_leaf':[1,2,3], \n",
    "#     min_weight_fraction_leaf=0.0,\n",
    "#     max_features='auto',\n",
    "#     max_leaf_nodes=None,\n",
    "#     min_impurity_decrease=0.0,\n",
    "#     min_impurity_split=None,\n",
    "    'GBM__ccp_alpha':(0.0, 0.0001, 0.00005),\n",
    "    'GBM__subsample':(0.9, 0.8, 0.7),\n",
    "}\n",
    "\n",
    "\n",
    "skfold = RepeatedStratifiedKFold(n_splits=5, n_repeats=1, random_state=0) # evaluating the performance for each value of the hyperparameters\n",
    "gridcv_gbm = GridSearchCV(pipeline, parameter_space, cv=skfold, n_jobs=-1, \\\n",
    "    scoring=make_scorer(balanced_accuracy_score), verbose=1)\n",
    "result = gridcv_gbm.fit(X_tr, y_tr)\n",
    "\n",
    "accuracies = gridcv_gbm.cv_results_['mean_test_score']\n",
    "print(np.mean(accuracies))\n",
    "evaluate_model(gridcv_gbm, X_tr, y_tr, X_te, y_te, print_table=True )\n",
    "print(gridcv_gbm.best_params_)"
   ]
  },
  {
   "cell_type": "markdown",
   "metadata": {},
   "source": [
    "Podemos apreciar que hay cierto overfitting en el modelo. Hay varias estrategias para lidiar con el overfitting que nos presenta el clasificador boost gradient machine. Una de ellas es aumentar min_samples_split y min_samples_leaf. Establecer valores más altos para estos no permitirá que el modelo memorice cómo identificar correctamente una sola pieza de datos o grupos de datos muy pequeños. Para un conjunto de datos grande (~ filas de 1 mil), colocaría estos valores en alrededor de 50, o incluso mas.  \n",
    "También puede utilizar submuestra para reducir el sobreajuste y max_features. Básicamente, estos parámetros no permiten que su modelo mire algunos de los datos, lo que le impide memorizarlos."
   ]
  },
  {
   "cell_type": "code",
   "execution_count": null,
   "metadata": {},
   "outputs": [],
   "source": []
  }
 ],
 "metadata": {
  "@webio": {
   "lastCommId": null,
   "lastKernelId": null
  },
  "kernelspec": {
   "display_name": "Python 3",
   "language": "python",
   "name": "python3"
  },
  "language_info": {
   "codemirror_mode": {
    "name": "ipython",
    "version": 3
   },
   "file_extension": ".py",
   "mimetype": "text/x-python",
   "name": "python",
   "nbconvert_exporter": "python",
   "pygments_lexer": "ipython3",
   "version": "3.8.5"
  },
  "metadata": {
   "interpreter": {
    "hash": "e134e05457d34029b6460cd73bbf1ed73f339b5b6d98c95be70b69eba114fe95"
   }
  },
  "toc": {
   "base_numbering": 1,
   "nav_menu": {},
   "number_sections": false,
   "sideBar": true,
   "skip_h1_title": false,
   "title_cell": "Table of Contents",
   "title_sidebar": "Contents",
   "toc_cell": false,
   "toc_position": {},
   "toc_section_display": true,
   "toc_window_display": false
  }
 },
 "nbformat": 4,
 "nbformat_minor": 2
}
