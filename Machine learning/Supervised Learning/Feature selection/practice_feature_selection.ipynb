{
 "cells": [
  {
   "cell_type": "markdown",
   "metadata": {},
   "source": [
    "* Sergio Muñoz González\n",
    "* Alicia Peñaranda Navazo"
   ]
  },
  {
   "cell_type": "code",
   "execution_count": 2,
   "metadata": {},
   "outputs": [],
   "source": [
    "from sklearn.neighbors import KNeighborsClassifier\n",
    "from sklearn.model_selection import RepeatedKFold\n",
    "from sklearn import preprocessing\n",
    "from sklearn.model_selection import RepeatedStratifiedKFold, GridSearchCV, train_test_split\n",
    "from sklearn.pipeline import Pipeline\n",
    "from sklearn.metrics import accuracy_score, make_scorer, confusion_matrix\n",
    "from sklearn.feature_selection import SelectKBest, SelectFromModel\n",
    "from sklearn.feature_selection import f_classif\n",
    "from sklearn.feature_selection import mutual_info_classif\n",
    "from sklearn.preprocessing import StandardScaler\n",
    "from sklearn.naive_bayes import GaussianNB\n",
    "from sklearn.ensemble import RandomForestClassifier\n",
    "import matplotlib.pyplot as plt\n",
    "import matplotlib.lines as mlines\n",
    "import numpy as np\n",
    "import pandas as pd\n",
    "import urllib.request as urllib\n",
    "import sys\n",
    "import warnings\n",
    "warnings.filterwarnings('ignore')"
   ]
  },
  {
   "cell_type": "markdown",
   "metadata": {},
   "source": [
    "# Loading data"
   ]
  },
  {
   "cell_type": "code",
   "execution_count": 3,
   "metadata": {
    "scrolled": true
   },
   "outputs": [
    {
     "data": {
      "text/html": [
       "<div>\n",
       "<style scoped>\n",
       "    .dataframe tbody tr th:only-of-type {\n",
       "        vertical-align: middle;\n",
       "    }\n",
       "\n",
       "    .dataframe tbody tr th {\n",
       "        vertical-align: top;\n",
       "    }\n",
       "\n",
       "    .dataframe thead th {\n",
       "        text-align: right;\n",
       "    }\n",
       "</style>\n",
       "<table border=\"1\" class=\"dataframe\">\n",
       "  <thead>\n",
       "    <tr style=\"text-align: right;\">\n",
       "      <th></th>\n",
       "      <th>100_g_at</th>\n",
       "      <th>1000_at</th>\n",
       "      <th>1001_at</th>\n",
       "      <th>1002_f_at</th>\n",
       "      <th>1003_s_at</th>\n",
       "      <th>1004_at</th>\n",
       "      <th>1005_at</th>\n",
       "      <th>1006_at</th>\n",
       "      <th>1007_s_at</th>\n",
       "      <th>1008_f_at</th>\n",
       "      <th>...</th>\n",
       "      <th>AFFX-ThrX-5_at</th>\n",
       "      <th>AFFX-ThrX-M_at</th>\n",
       "      <th>AFFX-TrpnX-3_at</th>\n",
       "      <th>AFFX-TrpnX-5_at</th>\n",
       "      <th>AFFX-TrpnX-M_at</th>\n",
       "      <th>AFFX-YEL002c/WBP1_at</th>\n",
       "      <th>AFFX-YEL018w/_at</th>\n",
       "      <th>AFFX-YEL021w/URA3_at</th>\n",
       "      <th>AFFX-YEL024w/RIP1_at</th>\n",
       "      <th>Y</th>\n",
       "    </tr>\n",
       "  </thead>\n",
       "  <tbody>\n",
       "    <tr>\n",
       "      <th>0</th>\n",
       "      <td>6.927460</td>\n",
       "      <td>7.391657</td>\n",
       "      <td>3.812922</td>\n",
       "      <td>3.453385</td>\n",
       "      <td>6.070151</td>\n",
       "      <td>5.527153</td>\n",
       "      <td>5.812353</td>\n",
       "      <td>3.167275</td>\n",
       "      <td>7.354981</td>\n",
       "      <td>9.419909</td>\n",
       "      <td>...</td>\n",
       "      <td>3.770583</td>\n",
       "      <td>2.884436</td>\n",
       "      <td>2.730025</td>\n",
       "      <td>3.126168</td>\n",
       "      <td>2.870161</td>\n",
       "      <td>3.082210</td>\n",
       "      <td>2.747289</td>\n",
       "      <td>3.226588</td>\n",
       "      <td>3.480196</td>\n",
       "      <td>0</td>\n",
       "    </tr>\n",
       "    <tr>\n",
       "      <th>1</th>\n",
       "      <td>7.222432</td>\n",
       "      <td>7.329050</td>\n",
       "      <td>3.958028</td>\n",
       "      <td>3.407226</td>\n",
       "      <td>5.921265</td>\n",
       "      <td>5.376464</td>\n",
       "      <td>7.303408</td>\n",
       "      <td>3.108708</td>\n",
       "      <td>7.391872</td>\n",
       "      <td>10.539579</td>\n",
       "      <td>...</td>\n",
       "      <td>3.190759</td>\n",
       "      <td>2.460119</td>\n",
       "      <td>2.696578</td>\n",
       "      <td>2.675271</td>\n",
       "      <td>2.940032</td>\n",
       "      <td>3.126269</td>\n",
       "      <td>3.013745</td>\n",
       "      <td>3.517859</td>\n",
       "      <td>3.428752</td>\n",
       "      <td>1</td>\n",
       "    </tr>\n",
       "    <tr>\n",
       "      <th>2</th>\n",
       "      <td>6.776402</td>\n",
       "      <td>7.664007</td>\n",
       "      <td>3.783702</td>\n",
       "      <td>3.152019</td>\n",
       "      <td>5.452293</td>\n",
       "      <td>5.111794</td>\n",
       "      <td>7.207638</td>\n",
       "      <td>3.077360</td>\n",
       "      <td>7.488371</td>\n",
       "      <td>6.833428</td>\n",
       "      <td>...</td>\n",
       "      <td>3.325183</td>\n",
       "      <td>2.603014</td>\n",
       "      <td>2.469759</td>\n",
       "      <td>2.615746</td>\n",
       "      <td>2.510172</td>\n",
       "      <td>2.730814</td>\n",
       "      <td>2.613696</td>\n",
       "      <td>2.823436</td>\n",
       "      <td>3.049716</td>\n",
       "      <td>0</td>\n",
       "    </tr>\n",
       "    <tr>\n",
       "      <th>3</th>\n",
       "      <td>6.919134</td>\n",
       "      <td>7.469634</td>\n",
       "      <td>4.004581</td>\n",
       "      <td>3.341170</td>\n",
       "      <td>6.070925</td>\n",
       "      <td>5.296108</td>\n",
       "      <td>8.744059</td>\n",
       "      <td>3.117104</td>\n",
       "      <td>7.203028</td>\n",
       "      <td>10.400557</td>\n",
       "      <td>...</td>\n",
       "      <td>3.625057</td>\n",
       "      <td>2.765521</td>\n",
       "      <td>2.681757</td>\n",
       "      <td>3.310741</td>\n",
       "      <td>3.197177</td>\n",
       "      <td>3.414182</td>\n",
       "      <td>3.193867</td>\n",
       "      <td>3.353537</td>\n",
       "      <td>3.567482</td>\n",
       "      <td>0</td>\n",
       "    </tr>\n",
       "    <tr>\n",
       "      <th>4</th>\n",
       "      <td>7.113561</td>\n",
       "      <td>7.322408</td>\n",
       "      <td>4.242724</td>\n",
       "      <td>3.489324</td>\n",
       "      <td>6.141657</td>\n",
       "      <td>5.628390</td>\n",
       "      <td>6.825370</td>\n",
       "      <td>3.794904</td>\n",
       "      <td>7.403024</td>\n",
       "      <td>10.240322</td>\n",
       "      <td>...</td>\n",
       "      <td>3.698067</td>\n",
       "      <td>3.026876</td>\n",
       "      <td>2.691670</td>\n",
       "      <td>3.236030</td>\n",
       "      <td>3.003906</td>\n",
       "      <td>3.081497</td>\n",
       "      <td>2.963307</td>\n",
       "      <td>3.472050</td>\n",
       "      <td>3.598103</td>\n",
       "      <td>1</td>\n",
       "    </tr>\n",
       "  </tbody>\n",
       "</table>\n",
       "<p>5 rows × 12626 columns</p>\n",
       "</div>"
      ],
      "text/plain": [
       "   100_g_at   1000_at   1001_at  1002_f_at  1003_s_at   1004_at   1005_at  \\\n",
       "0  6.927460  7.391657  3.812922   3.453385   6.070151  5.527153  5.812353   \n",
       "1  7.222432  7.329050  3.958028   3.407226   5.921265  5.376464  7.303408   \n",
       "2  6.776402  7.664007  3.783702   3.152019   5.452293  5.111794  7.207638   \n",
       "3  6.919134  7.469634  4.004581   3.341170   6.070925  5.296108  8.744059   \n",
       "4  7.113561  7.322408  4.242724   3.489324   6.141657  5.628390  6.825370   \n",
       "\n",
       "    1006_at  1007_s_at  1008_f_at  ...  AFFX-ThrX-5_at  AFFX-ThrX-M_at  \\\n",
       "0  3.167275   7.354981   9.419909  ...        3.770583        2.884436   \n",
       "1  3.108708   7.391872  10.539579  ...        3.190759        2.460119   \n",
       "2  3.077360   7.488371   6.833428  ...        3.325183        2.603014   \n",
       "3  3.117104   7.203028  10.400557  ...        3.625057        2.765521   \n",
       "4  3.794904   7.403024  10.240322  ...        3.698067        3.026876   \n",
       "\n",
       "   AFFX-TrpnX-3_at  AFFX-TrpnX-5_at  AFFX-TrpnX-M_at  AFFX-YEL002c/WBP1_at  \\\n",
       "0         2.730025         3.126168         2.870161              3.082210   \n",
       "1         2.696578         2.675271         2.940032              3.126269   \n",
       "2         2.469759         2.615746         2.510172              2.730814   \n",
       "3         2.681757         3.310741         3.197177              3.414182   \n",
       "4         2.691670         3.236030         3.003906              3.081497   \n",
       "\n",
       "   AFFX-YEL018w/_at  AFFX-YEL021w/URA3_at  AFFX-YEL024w/RIP1_at  Y  \n",
       "0          2.747289              3.226588              3.480196  0  \n",
       "1          3.013745              3.517859              3.428752  1  \n",
       "2          2.613696              2.823436              3.049716  0  \n",
       "3          3.193867              3.353537              3.567482  0  \n",
       "4          2.963307              3.472050              3.598103  1  \n",
       "\n",
       "[5 rows x 12626 columns]"
      ]
     },
     "execution_count": 3,
     "metadata": {},
     "output_type": "execute_result"
    }
   ],
   "source": [
    "data= pd.read_csv('prostate.csv')\n",
    "X = data.values[ :, :-1].astype(np.float)\n",
    "y = data.values[:,-1]\n",
    "data.head()\n"
   ]
  },
  {
   "cell_type": "markdown",
   "metadata": {},
   "source": [
    "# KNN performance with all features"
   ]
  },
  {
   "cell_type": "code",
   "execution_count": 22,
   "metadata": {},
   "outputs": [
    {
     "name": "stdout",
     "output_type": "stream",
     "text": [
      "...................................................................................................."
     ]
    }
   ],
   "source": [
    "\n",
    "# #We set 10 times 10 k fold\n",
    "\n",
    "n_repeats = 10\n",
    "\n",
    "rkf = RepeatedKFold(n_splits=10, n_repeats = n_repeats, random_state=0)\n",
    "\n",
    "knn_all_error= []\n",
    "\n",
    "for train_index, test_index in rkf.split(X, y):\n",
    "    \n",
    "    # PARTITION INTO TRAINING AND TESTING DATASETS\n",
    "    \n",
    "    # We print a dot for each train / test partition\n",
    "    \n",
    "    sys.stdout.write('.')\n",
    "    sys.stdout.flush()\n",
    "\n",
    "    X_train, X_test = X[train_index], X[test_index]\n",
    "    y_train, y_test = y[train_index], y[test_index]\n",
    "\n",
    "    # STANDARIZATION OF THE DATA (MEAN = 0; STD = 1)\n",
    "\n",
    "    scaler = preprocessing.StandardScaler().fit(X_train)\n",
    "    X_train= scaler.transform(X_train)\n",
    "    X_test= scaler.transform(X_test)\n",
    "\n",
    "    # check the standarization process, not shown in output\n",
    "\n",
    "    #print(np.var(X_train[:,0]))\n",
    "    #print(np.var(X_train[:,1]))\n",
    "    #print(np.var(X_train_scaled[:,0]))\n",
    "    #print(np.var(X_train_scaled[:,1]))\n",
    "\n",
    "    # Choosing the best k-neighbor in each cross validation partition with 5 fold cv\n",
    "\n",
    "    pipeline = Pipeline([ ('knn', KNeighborsClassifier()) ])\n",
    "\n",
    "    N_neighbors = [1, 3, 5, 7, 11, 15, 20, 25, 30]\n",
    "    param_grid = { 'knn__n_neighbors': N_neighbors }\n",
    "    \n",
    "    skfold = RepeatedStratifiedKFold(n_splits=5, n_repeats=1, random_state=0)\n",
    "    gridcv = GridSearchCV(pipeline, cv=skfold, n_jobs=1, param_grid=param_grid, \\\n",
    "        scoring=make_scorer(accuracy_score))\n",
    "    result = gridcv.fit(X_train, y_train)\n",
    "    \n",
    "    accuracies = gridcv.cv_results_['mean_test_score']\n",
    "    std_accuracies = gridcv.cv_results_['std_test_score']\n",
    "    \n",
    "    best_k_neigh = N_neighbors[ np.argmax(accuracies) ]\n",
    "    #Training the model \n",
    "    knn = KNeighborsClassifier(n_neighbors = best_k_neigh)\n",
    "    knn.fit(X_train, y_train)\n",
    "\n",
    "    y_pred = knn.predict(X_test)\n",
    "    \n",
    "    #Evaluating performance\n",
    "    conf = confusion_matrix(y_test, y_pred)\n",
    "\n",
    "    TN = conf[0][0]\n",
    "    TP = conf[1][1]\n",
    "    FP = conf[0][1]\n",
    "    FN = conf[1][0]\n",
    "    PredictionAcc = ((TP + TN) / (TN + TP + FP + FN))\n",
    "    knn_all_error.append(1-PredictionAcc)\n",
    "    "
   ]
  },
  {
   "cell_type": "code",
   "execution_count": 23,
   "metadata": {},
   "outputs": [
    {
     "data": {
      "text/plain": [
       "0.22836363636363635"
      ]
     },
     "execution_count": 23,
     "metadata": {},
     "output_type": "execute_result"
    }
   ],
   "source": [
    "np.mean(knn_all_error)"
   ]
  },
  {
   "cell_type": "markdown",
   "metadata": {},
   "source": [
    "# KNN performance with ANOVA feature selection"
   ]
  },
  {
   "cell_type": "code",
   "execution_count": 18,
   "metadata": {
    "scrolled": true
   },
   "outputs": [
    {
     "name": "stdout",
     "output_type": "stream",
     "text": [
      "...................................................................................................."
     ]
    }
   ],
   "source": [
    "#We set 10 times 10 k fold\n",
    "n_repeats = 10\n",
    "\n",
    "rkf = RepeatedKFold(n_splits=10, n_repeats = n_repeats, random_state=0)\n",
    "\n",
    "errors_knn_ANOVA = np.zeros((10 * n_repeats, 1))\n",
    "split = 0\n",
    "\n",
    "for train_index, test_index in rkf.split(X, y):\n",
    "\n",
    "    # We print a dot for each train / test partition\n",
    "    \n",
    "    sys.stdout.write('.')\n",
    "    sys.stdout.flush()\n",
    "\n",
    "    X_train, X_test = X[train_index], X[test_index]\n",
    "    y_train, y_test = y[train_index], y[test_index]\n",
    "    # We standardize the data\n",
    "\n",
    "    scaler = preprocessing.StandardScaler().fit(X_train)\n",
    "    X_train = scaler.transform(X_train)\n",
    "    X_test = scaler.transform(X_test)\n",
    "    \n",
    "\n",
    "    # We create a filter to select the required number of features\n",
    "    # The filter will be based on the F-statistc \"f_classif\".\n",
    "\n",
    "    filtering = SelectKBest(f_classif, k = 10)\n",
    "    filtering.fit(X_train, y_train)\n",
    "    \n",
    "    #Carrying out the feature selection \n",
    "    X_train_sel = filtering.transform(X_train)\n",
    "    X_test_sel = filtering.transform(X_test)\n",
    "    \n",
    "    # Choosing the best k-neighbor in each cross validation partition with 5 fold cv\n",
    "    pipeline = Pipeline([ ('knn', KNeighborsClassifier()) ])\n",
    "\n",
    "    N_neighbors = [1, 3, 5, 7, 11, 15, 20, 25, 30]\n",
    "    param_grid = { 'knn__n_neighbors': N_neighbors }\n",
    "    \n",
    "    skfold = RepeatedStratifiedKFold(n_splits=5, n_repeats=1, random_state=0)\n",
    "    gridcv = GridSearchCV(pipeline, cv=skfold, n_jobs=1, param_grid=param_grid, \\\n",
    "        scoring=make_scorer(accuracy_score))\n",
    "    result = gridcv.fit(X_train_sel, y_train)\n",
    "    \n",
    "    accuracies = gridcv.cv_results_['mean_test_score']\n",
    "    std_accuracies = gridcv.cv_results_['std_test_score']\n",
    "    \n",
    "    best_k_neigh = N_neighbors[ np.argmax(accuracies) ]\n",
    "    \n",
    "\n",
    "    # We fit the classifier on the training data and evaluate its performance on\n",
    "    # test data.\n",
    "    knn = KNeighborsClassifier(n_neighbors = best_k_neigh)\n",
    "    knn.fit(X_train_sel, y_train)\n",
    "    errors_knn_ANOVA[ split, 0 ] = 1.0 - np.mean(knn.predict(X_test_sel) == y_test)\n",
    "\n",
    "    split += 1"
   ]
  },
  {
   "cell_type": "code",
   "execution_count": 19,
   "metadata": {},
   "outputs": [
    {
     "data": {
      "text/plain": [
       "array([0.09018182])"
      ]
     },
     "execution_count": 19,
     "metadata": {},
     "output_type": "execute_result"
    }
   ],
   "source": [
    "np.mean(errors_knn_ANOVA,0)"
   ]
  },
  {
   "cell_type": "markdown",
   "metadata": {},
   "source": [
    "# KNN performance with RandomForest feature selection"
   ]
  },
  {
   "cell_type": "code",
   "execution_count": 20,
   "metadata": {},
   "outputs": [
    {
     "name": "stdout",
     "output_type": "stream",
     "text": [
      "...................................................................................................."
     ]
    }
   ],
   "source": [
    "#We set 10 times 10 k fold\n",
    "n_repeats = 10\n",
    "\n",
    "rkf = RepeatedKFold(n_splits=10, n_repeats = n_repeats, random_state=0)\n",
    "\n",
    "\n",
    "errors_knn_rf = np.zeros((10 * n_repeats, 1))\n",
    "split = 0\n",
    "\n",
    "for train_index, test_index in rkf.split(X, y):\n",
    "\n",
    "    # We print a dot for each train / test partition\n",
    "    \n",
    "    sys.stdout.write('.')\n",
    "    sys.stdout.flush()\n",
    "\n",
    "    X_train, X_test = X[train_index], X[test_index]\n",
    "    y_train, y_test = y[train_index], y[test_index]\n",
    "    # We standardize the data\n",
    "\n",
    "    scaler = preprocessing.StandardScaler().fit(X_train)\n",
    "    X_train = scaler.transform(X_train)\n",
    "    X_test = scaler.transform(X_test)\n",
    "    \n",
    "\n",
    "    # First filter with variable ranking F-score\n",
    "    filtering_rf = SelectKBest(f_classif, k = int(np.round(X.shape[ 1 ] * 0.2)))\n",
    "    filtering_rf.fit(X_train, y_train)\n",
    "    \n",
    "    X_train_sel = filtering_rf.transform(X_train)\n",
    "    X_test_sel = filtering_rf.transform(X_test)\n",
    "    \n",
    "    # Second filter using RF for feature selection\n",
    "    rf_selection =  SelectFromModel(RandomForestClassifier(n_estimators = 2000, \\\n",
    "    random_state = 0), threshold = 0.0)\n",
    "    rf_selection.fit(X_train_sel, y_train)\n",
    "    rf_selection.threshold = -1.0 * np.sort(-1.0 * rf_selection.estimator_.feature_importances_)[ 9 ]\n",
    "    X_train_sel = rf_selection.transform(X_train_sel)\n",
    "    X_test_sel = rf_selection.transform(X_test_sel)\n",
    "    \n",
    "    # Choosing the best k-neighbor in each cross validation partition with 5 fold cv\n",
    "    pipeline = Pipeline([ ('knn', KNeighborsClassifier()) ])\n",
    "\n",
    "    N_neighbors = [1, 3, 5, 7, 11, 15, 20, 25, 30]\n",
    "    param_grid = { 'knn__n_neighbors': N_neighbors }\n",
    "    \n",
    "    skfold = RepeatedStratifiedKFold(n_splits=5, n_repeats=1, random_state=0)\n",
    "    gridcv = GridSearchCV(pipeline, cv=skfold, n_jobs=1, param_grid=param_grid, \\\n",
    "        scoring=make_scorer(accuracy_score))\n",
    "    result = gridcv.fit(X_train_sel, y_train)\n",
    "    \n",
    "    accuracies = gridcv.cv_results_['mean_test_score']\n",
    "    std_accuracies = gridcv.cv_results_['std_test_score']\n",
    "    \n",
    "    best_k_neigh = N_neighbors[ np.argmax(accuracies) ]\n",
    "    \n",
    "\n",
    "    # We fit the classifier on the training data and evaluate its performance on\n",
    "    # test data.\n",
    "    knn = KNeighborsClassifier(n_neighbors = best_k_neigh)\n",
    "    knn.fit(X_train_sel, y_train)\n",
    "    errors_knn_rf[ split, 0 ] = 1.0 - np.mean(knn.predict(X_test_sel) == y_test)\n",
    "\n",
    "    split += 1"
   ]
  },
  {
   "cell_type": "code",
   "execution_count": 21,
   "metadata": {},
   "outputs": [
    {
     "data": {
      "text/plain": [
       "array([0.08636364])"
      ]
     },
     "execution_count": 21,
     "metadata": {},
     "output_type": "execute_result"
    }
   ],
   "source": [
    "np.mean(errors_knn_rf,0)"
   ]
  },
  {
   "cell_type": "markdown",
   "metadata": {},
   "source": [
    "# Trade-off between interpretability and prediction accuracy"
   ]
  },
  {
   "cell_type": "code",
   "execution_count": 33,
   "metadata": {},
   "outputs": [
    {
     "name": "stdout",
     "output_type": "stream",
     "text": [
      "...................................................................................................."
     ]
    }
   ],
   "source": [
    "\n",
    "#We set 10 times 10 k fold\n",
    "n_repeats = 10\n",
    "\n",
    "rkf = RepeatedKFold(n_splits=10, n_repeats = n_repeats, random_state=0)\n",
    "\n",
    "#we set the range of n_features to test\n",
    "n_features = np.unique(np.round(np.exp(np.arange(0, np.log(210), 0.1))).astype(np.int))\n",
    "\n",
    "errors_3knn_ANOVA = np.zeros((10 * n_repeats, len(n_features)))\n",
    "errors_knn_random = np.zeros((10 * n_repeats, len(n_features)))\n",
    "\n",
    "split = 0\n",
    "for train_index, test_index in rkf.split(X, y):\n",
    "\n",
    "    # We print a dot for each train / test partition\n",
    "    \n",
    "    sys.stdout.write('.')\n",
    "    sys.stdout.flush()\n",
    "\n",
    "    X_train, X_test = X[train_index], X[test_index]\n",
    "    y_train, y_test = y[train_index], y[test_index]\n",
    "    # We standardize the data\n",
    "\n",
    "    scaler = preprocessing.StandardScaler().fit(X_train)\n",
    "    X_train = scaler.transform(X_train)\n",
    "    X_test = scaler.transform(X_test)\n",
    "    \n",
    "    # pick random features to make comparison\n",
    "    \n",
    "    random_features = np.random.permutation(X.shape[ 1 ])\n",
    "\n",
    "    # We create a filter to select the required number of features\n",
    "    # The filter will be based on the F-statistc \"f_classif\".\n",
    "    for i in range(len(n_features)):\n",
    "\n",
    "            # Filtering with variable ranking F-score and carrying out feature selection with F-score\n",
    "\n",
    "            filtering = SelectKBest(f_classif, k = n_features[ len(n_features) - i - 1 ])\n",
    "            filtering.fit(X_train, y_train)\n",
    "\n",
    "            X_train_sel = filtering.transform(X_train)\n",
    "            X_test_sel = filtering.transform(X_test)\n",
    "\n",
    "            # Fitting the model , here is not necessary to find the best k-neighbor in each partition cause we have to set it to 3 \n",
    "            knn = KNeighborsClassifier(n_neighbors = 3)\n",
    "            knn.fit(X_train_sel, y_train)\n",
    "\n",
    "            errors_3knn_ANOVA[ split, len(n_features) - i - 1 ] = 1.0 - np.mean(knn.predict(X_test_sel) == y_test)\n",
    "            \n",
    "            knn.fit(X_train[ :, random_features[ 0 : n_features[ len(n_features) - i - 1 ] ] ], y_train)\n",
    "\n",
    "            errors_knn_random[ split, len(n_features) - i - 1 ] = 1.0 - \\\n",
    "                np.mean(knn.predict(X_test[ :, random_features[ 0 : \\\n",
    "                n_features[ len(n_features) - i - 1 ] ] ]) == y_test)\n",
    "\n",
    "\n",
    "    split += 1"
   ]
  },
  {
   "cell_type": "code",
   "execution_count": 34,
   "metadata": {},
   "outputs": [
    {
     "data": {
      "text/plain": [
       "array([0.12036364, 0.10709091, 0.10281818, 0.11754545, 0.11263636,\n",
       "       0.11881818, 0.10327273, 0.09427273, 0.09136364, 0.08736364,\n",
       "       0.08454545, 0.08272727, 0.08063636, 0.07945455, 0.08054545,\n",
       "       0.08572727, 0.08781818, 0.09072727, 0.09354545, 0.08872727,\n",
       "       0.08763636, 0.08663636, 0.08054545, 0.09045455, 0.07963636,\n",
       "       0.08381818, 0.07481818, 0.079     , 0.07790909, 0.074     ,\n",
       "       0.07709091, 0.071     , 0.07181818, 0.07581818, 0.075     ,\n",
       "       0.076     , 0.07481818, 0.07790909, 0.078     , 0.09054545])"
      ]
     },
     "execution_count": 34,
     "metadata": {},
     "output_type": "execute_result"
    }
   ],
   "source": [
    "np.mean(errors_3knn_ANOVA, 0)"
   ]
  },
  {
   "cell_type": "code",
   "execution_count": 35,
   "metadata": {},
   "outputs": [],
   "source": [
    "# We compute mean errors and the corresponding standard deviations\n",
    "\n",
    "error = np.mean(errors_3knn_ANOVA, 0)\n",
    "error_std = np.std(errors_3knn_ANOVA, 0) / np.sqrt(errors_3knn_ANOVA.shape[ 0 ])\n",
    "\n",
    "error_random = np.mean(errors_knn_random, 0)\n",
    "error_random_std = np.std(errors_knn_random, 0) / np.sqrt(errors_knn_random.shape[ 0 ])"
   ]
  },
  {
   "cell_type": "code",
   "execution_count": 36,
   "metadata": {},
   "outputs": [
    {
     "data": {
      "image/png": "[encoded data removed]",
      "text/plain": [
       "<Figure size 1152x648 with 1 Axes>"
      ]
     },
     "metadata": {
      "needs_background": "light"
     },
     "output_type": "display_data"
    }
   ],
   "source": [
    "sel = np.arange(1, len(n_features) + 1, 8) - 1\n",
    "\n",
    "plt.figure(figsize=(16,9))\n",
    "line1, = plt.plot(n_features, error, 's-', color=\"b\")\n",
    "line2, = plt.plot(n_features, error_random, 's-', color=\"r\")\n",
    "plt.fill_between(n_features, error - error_std, error + error_std, alpha=0.1, color=\"b\")\n",
    "plt.fill_between(n_features, error_random - error_random_std, \\\n",
    "    error_random + error_random_std, alpha=0.1, color=\"r\")\n",
    "plt.grid()\n",
    "plt.title(\"KNN: Performance in terms of the number of features\")\n",
    "plt.xlabel('Number of Features')\n",
    "#plt.xticks(np.array(n_features[ sel ]))\n",
    "plt.xticks(np.array([1, 3, 5, 7, 10, 15, 20, 30, 50, 100, 150, 200]))\n",
    "plt.ylabel('Prostate - Classification Error')\n",
    "plt.ylim(0.0,  0.5)\n",
    "legend_handles = [ mlines.Line2D([], [], color='b', marker='s', \\\n",
    "    markersize=15, label='Variable Ranking using F-statistic'),\n",
    "    mlines.Line2D([], [], color='r', marker='s', \\\n",
    "    markersize=15, label='Picking Features at Random') ]\n",
    "plt.legend(handles=legend_handles, loc = 1)\n",
    "plt.show()"
   ]
  },
  {
   "cell_type": "markdown",
   "metadata": {},
   "source": [
    "## Repeating that process when the feature selection is done externally to the cross validation  "
   ]
  },
  {
   "cell_type": "code",
   "execution_count": 39,
   "metadata": {},
   "outputs": [
    {
     "name": "stdout",
     "output_type": "stream",
     "text": [
      "...................................................................................................."
     ]
    }
   ],
   "source": [
    "\n",
    "#We set 10 times 10 k fold\n",
    "n_repeats = 10\n",
    "\n",
    "rkf = RepeatedKFold(n_splits=10, n_repeats = n_repeats, random_state=0)\n",
    "\n",
    "\n",
    "#we set the range of n_features to test\n",
    "n_features = np.unique(np.round(np.exp(np.arange(0, np.log(210), 0.1))).astype(np.int))\n",
    "\n",
    "errors_3knn_out = np.zeros((10 * n_repeats, len(n_features)))\n",
    "\n",
    "split = 0\n",
    "\n",
    "for i in range(len(n_features)):\n",
    "\n",
    "    # Filtering outside with f_score variable ranking\n",
    "\n",
    "    filtering = SelectKBest(f_classif, k = n_features[ len(n_features) - i - 1 ])\n",
    "    filtering.fit(X, y)\n",
    "\n",
    "    X_sel = filtering.transform(X)\n",
    "    \n",
    "for train_index, test_index in rkf.split(X_sel, y):\n",
    "    \n",
    "    \n",
    "    # We print a dot for each train / test partition-partitiotions from the data selected outside previously \n",
    "    \n",
    "    sys.stdout.write('.')\n",
    "    sys.stdout.flush()\n",
    "\n",
    "    X_train, X_test = X[train_index], X[test_index]\n",
    "    y_train, y_test = y[train_index], y[test_index]\n",
    "\n",
    "    # We standardize the data\n",
    "\n",
    "    scaler = preprocessing.StandardScaler().fit(X_train)\n",
    "    X_train = scaler.transform(X_train)\n",
    "    X_test = scaler.transform(X_test)\n",
    "\n",
    "    # fitting the model\n",
    "\n",
    "    knn.fit(X_train, y_train)\n",
    "    errors_3knn_out[ split, len(n_features) - i - 1 ] = 1.0 - np.mean(knn.predict(X_test) == y_test)\n",
    "        \n",
    "    split += 1"
   ]
  },
  {
   "cell_type": "code",
   "execution_count": 41,
   "metadata": {},
   "outputs": [],
   "source": [
    "error_out = np.mean(errors_3knn_out, 0)\n",
    "error_out_std = np.std(errors_3knn_out, 0) / np.sqrt(errors_3knn_out.shape[ 0 ])"
   ]
  },
  {
   "cell_type": "code",
   "execution_count": 43,
   "metadata": {},
   "outputs": [
    {
     "data": {
      "image/png": "[encoded data removed]",
      "text/plain": [
       "<Figure size 1152x648 with 1 Axes>"
      ]
     },
     "metadata": {
      "needs_background": "light"
     },
     "output_type": "display_data"
    }
   ],
   "source": [
    "sel = np.arange(1, len(n_features) + 1, 8) - 1\n",
    "\n",
    "plt.figure(figsize=(16,9))\n",
    "line1, = plt.plot(n_features, error, 's-', color=\"b\")\n",
    "line2, = plt.plot(n_features, error_random, 's-', color=\"r\")\n",
    "line3, = plt.plot(n_features, error_out, 's-', color=\"y\")\n",
    "plt.fill_between(n_features, error - error_std, error + error_std, alpha=0.1, color=\"b\")\n",
    "plt.fill_between(n_features, error_out - error_out_std, error_out + error_out_std, alpha=0.1, color=\"k\")\n",
    "plt.fill_between(n_features, error_random - error_random_std, \\\n",
    "    error_random + error_random_std, alpha=0.1, color=\"r\")\n",
    "plt.grid()\n",
    "plt.title(\"KNN: Performance in terms of the number of features\")\n",
    "plt.xlabel('Number of Features')\n",
    "#plt.xticks(np.array(n_features[ sel ]))\n",
    "plt.xticks(np.array([1, 3, 5, 7, 10, 15, 20, 30, 50, 100, 150, 200]))\n",
    "plt.ylabel('Prostate - Classification Error')\n",
    "plt.ylim(0.0,  0.5)\n",
    "legend_handles = [ mlines.Line2D([], [], color='b', marker='s', \\\n",
    "    markersize=15, label='Variable Ranking using F-statistic'),\n",
    "    mlines.Line2D([], [], color='r', marker='s', \\\n",
    "    markersize=15, label='Picking Features at Random'),\n",
    "    mlines.Line2D([], [], color = 'g', marker='s', \\\n",
    "    markersize=15, label='External CV Variable ranking')]\n",
    "plt.legend(handles=legend_handles, loc = 1)\n",
    "plt.show()"
   ]
  },
  {
   "cell_type": "code",
   "execution_count": null,
   "metadata": {},
   "outputs": [],
   "source": []
  }
 ],
 "metadata": {
  "kernelspec": {
   "display_name": "Python 3",
   "language": "python",
   "name": "python3"
  },
  "language_info": {
   "codemirror_mode": {
    "name": "ipython",
    "version": 3
   },
   "file_extension": ".py",
   "mimetype": "text/x-python",
   "name": "python",
   "nbconvert_exporter": "python",
   "pygments_lexer": "ipython3",
   "version": "3.8.5"
  }
 },
 "nbformat": 4,
 "nbformat_minor": 4
}
